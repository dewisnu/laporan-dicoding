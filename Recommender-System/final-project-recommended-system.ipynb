{
 "cells": [
  {
   "cell_type": "markdown",
   "metadata": {},
   "source": [
    "# Sistem Rekomendasi Buku\n",
    "\n",
    "Nama: I Gede Ari Wisnu Sanjaya\n",
    "\n",
    "Asal: Bali"
   ]
  },
  {
   "cell_type": "code",
   "execution_count": 2,
   "metadata": {
    "_cell_guid": "b1076dfc-b9ad-4769-8c92-a6c4dae69d19",
    "_uuid": "8f2839f25d086af736a60e9eeb907d3b93b6e0e5",
    "execution": {
     "iopub.execute_input": "2023-07-20T13:04:33.420063Z",
     "iopub.status.busy": "2023-07-20T13:04:33.419547Z",
     "iopub.status.idle": "2023-07-20T13:04:33.440293Z",
     "shell.execute_reply": "2023-07-20T13:04:33.439059Z",
     "shell.execute_reply.started": "2023-07-20T13:04:33.420015Z"
    }
   },
   "outputs": [
    {
     "name": "stdout",
     "output_type": "stream",
     "text": [
      "/kaggle/input/book-recommendation-dataset/Ratings.csv\n",
      "/kaggle/input/book-recommendation-dataset/Users.csv\n",
      "/kaggle/input/book-recommendation-dataset/Books.csv\n",
      "/kaggle/input/book-recommendation-dataset/recsys_taxonomy2.png\n"
     ]
    }
   ],
   "source": [
    "# This Python 3 environment comes with many helpful analytics libraries installed\n",
    "# It is defined by the kaggle/python Docker image: https://github.com/kaggle/docker-python\n",
    "# For example, here's several helpful packages to load\n",
    "\n",
    "import numpy as np # linear algebra\n",
    "import pandas as pd # data processing, CSV file I/O (e.g. pd.read_csv)\n",
    "\n",
    "# Input data files are available in the read-only \"../input/\" directory\n",
    "# For example, running this (by clicking run or pressing Shift+Enter) will list all files under the input directory\n",
    "\n",
    "import os\n",
    "for dirname, _, filenames in os.walk('/kaggle/input'):\n",
    "    for filename in filenames:\n",
    "        print(os.path.join(dirname, filename))\n",
    "\n",
    "# You can write up to 20GB to the current directory (/kaggle/working/) that gets preserved as output when you create a version using \"Save & Run All\" \n",
    "# You can also write temporary files to /kaggle/temp/, but they won't be saved outside of the current session"
   ]
  },
  {
   "cell_type": "markdown",
   "metadata": {},
   "source": [
    "## Data UnderStanding\n",
    "\n",
    "Memberikan informasi seperti jumlah data, kondisi data, dan informasi mengenai data yang digunakan.\n",
    "\n",
    "Menuliskan tautan sumber data (link download). https://www.kaggle.com/datasets/arashnic/book-recommendation-dataset\n",
    "\n",
    "Menguraikan seluruh variabel atau fitur pada data.\n",
    "\n",
    "Melakukan beberapa tahapan yang diperlukan mengenai data, contohnya teknik visualisasi data beserta insight atau exploratory data analysis."
   ]
  },
  {
   "cell_type": "code",
   "execution_count": 3,
   "metadata": {
    "execution": {
     "iopub.execute_input": "2023-07-20T13:04:33.443643Z",
     "iopub.status.busy": "2023-07-20T13:04:33.442818Z",
     "iopub.status.idle": "2023-07-20T13:04:33.452917Z",
     "shell.execute_reply": "2023-07-20T13:04:33.451741Z",
     "shell.execute_reply.started": "2023-07-20T13:04:33.443581Z"
    }
   },
   "outputs": [
    {
     "name": "stdout",
     "output_type": "stream",
     "text": [
      "/kaggle/input/book-recommendation-dataset\n"
     ]
    }
   ],
   "source": [
    "cd ../input/book-recommendation-dataset"
   ]
  },
  {
   "cell_type": "code",
   "execution_count": 4,
   "metadata": {
    "execution": {
     "iopub.execute_input": "2023-07-20T13:04:33.467684Z",
     "iopub.status.busy": "2023-07-20T13:04:33.466832Z",
     "iopub.status.idle": "2023-07-20T13:04:38.631553Z",
     "shell.execute_reply": "2023-07-20T13:04:38.630029Z",
     "shell.execute_reply.started": "2023-07-20T13:04:33.467629Z"
    }
   },
   "outputs": [
    {
     "name": "stderr",
     "output_type": "stream",
     "text": [
      "/tmp/ipykernel_32/969192084.py:2: DtypeWarning: Columns (3) have mixed types. Specify dtype option on import or set low_memory=False.\n",
      "  books = pd.read_csv('./Books.csv')\n"
     ]
    },
    {
     "data": {
      "text/html": [
       "<div>\n",
       "<style scoped>\n",
       "    .dataframe tbody tr th:only-of-type {\n",
       "        vertical-align: middle;\n",
       "    }\n",
       "\n",
       "    .dataframe tbody tr th {\n",
       "        vertical-align: top;\n",
       "    }\n",
       "\n",
       "    .dataframe thead th {\n",
       "        text-align: right;\n",
       "    }\n",
       "</style>\n",
       "<table border=\"1\" class=\"dataframe\">\n",
       "  <thead>\n",
       "    <tr style=\"text-align: right;\">\n",
       "      <th></th>\n",
       "      <th>ISBN</th>\n",
       "      <th>Book-Title</th>\n",
       "      <th>Book-Author</th>\n",
       "      <th>Year-Of-Publication</th>\n",
       "      <th>Publisher</th>\n",
       "      <th>Image-URL-S</th>\n",
       "      <th>Image-URL-M</th>\n",
       "      <th>Image-URL-L</th>\n",
       "    </tr>\n",
       "  </thead>\n",
       "  <tbody>\n",
       "    <tr>\n",
       "      <th>0</th>\n",
       "      <td>0195153448</td>\n",
       "      <td>Classical Mythology</td>\n",
       "      <td>Mark P. O. Morford</td>\n",
       "      <td>2002</td>\n",
       "      <td>Oxford University Press</td>\n",
       "      <td>http://images.amazon.com/images/P/0195153448.0...</td>\n",
       "      <td>http://images.amazon.com/images/P/0195153448.0...</td>\n",
       "      <td>http://images.amazon.com/images/P/0195153448.0...</td>\n",
       "    </tr>\n",
       "    <tr>\n",
       "      <th>1</th>\n",
       "      <td>0002005018</td>\n",
       "      <td>Clara Callan</td>\n",
       "      <td>Richard Bruce Wright</td>\n",
       "      <td>2001</td>\n",
       "      <td>HarperFlamingo Canada</td>\n",
       "      <td>http://images.amazon.com/images/P/0002005018.0...</td>\n",
       "      <td>http://images.amazon.com/images/P/0002005018.0...</td>\n",
       "      <td>http://images.amazon.com/images/P/0002005018.0...</td>\n",
       "    </tr>\n",
       "    <tr>\n",
       "      <th>2</th>\n",
       "      <td>0060973129</td>\n",
       "      <td>Decision in Normandy</td>\n",
       "      <td>Carlo D'Este</td>\n",
       "      <td>1991</td>\n",
       "      <td>HarperPerennial</td>\n",
       "      <td>http://images.amazon.com/images/P/0060973129.0...</td>\n",
       "      <td>http://images.amazon.com/images/P/0060973129.0...</td>\n",
       "      <td>http://images.amazon.com/images/P/0060973129.0...</td>\n",
       "    </tr>\n",
       "    <tr>\n",
       "      <th>3</th>\n",
       "      <td>0374157065</td>\n",
       "      <td>Flu: The Story of the Great Influenza Pandemic...</td>\n",
       "      <td>Gina Bari Kolata</td>\n",
       "      <td>1999</td>\n",
       "      <td>Farrar Straus Giroux</td>\n",
       "      <td>http://images.amazon.com/images/P/0374157065.0...</td>\n",
       "      <td>http://images.amazon.com/images/P/0374157065.0...</td>\n",
       "      <td>http://images.amazon.com/images/P/0374157065.0...</td>\n",
       "    </tr>\n",
       "    <tr>\n",
       "      <th>4</th>\n",
       "      <td>0393045218</td>\n",
       "      <td>The Mummies of Urumchi</td>\n",
       "      <td>E. J. W. Barber</td>\n",
       "      <td>1999</td>\n",
       "      <td>W. W. Norton &amp;amp; Company</td>\n",
       "      <td>http://images.amazon.com/images/P/0393045218.0...</td>\n",
       "      <td>http://images.amazon.com/images/P/0393045218.0...</td>\n",
       "      <td>http://images.amazon.com/images/P/0393045218.0...</td>\n",
       "    </tr>\n",
       "  </tbody>\n",
       "</table>\n",
       "</div>"
      ],
      "text/plain": [
       "         ISBN                                         Book-Title  \\\n",
       "0  0195153448                                Classical Mythology   \n",
       "1  0002005018                                       Clara Callan   \n",
       "2  0060973129                               Decision in Normandy   \n",
       "3  0374157065  Flu: The Story of the Great Influenza Pandemic...   \n",
       "4  0393045218                             The Mummies of Urumchi   \n",
       "\n",
       "            Book-Author Year-Of-Publication                   Publisher  \\\n",
       "0    Mark P. O. Morford                2002     Oxford University Press   \n",
       "1  Richard Bruce Wright                2001       HarperFlamingo Canada   \n",
       "2          Carlo D'Este                1991             HarperPerennial   \n",
       "3      Gina Bari Kolata                1999        Farrar Straus Giroux   \n",
       "4       E. J. W. Barber                1999  W. W. Norton &amp; Company   \n",
       "\n",
       "                                         Image-URL-S  \\\n",
       "0  http://images.amazon.com/images/P/0195153448.0...   \n",
       "1  http://images.amazon.com/images/P/0002005018.0...   \n",
       "2  http://images.amazon.com/images/P/0060973129.0...   \n",
       "3  http://images.amazon.com/images/P/0374157065.0...   \n",
       "4  http://images.amazon.com/images/P/0393045218.0...   \n",
       "\n",
       "                                         Image-URL-M  \\\n",
       "0  http://images.amazon.com/images/P/0195153448.0...   \n",
       "1  http://images.amazon.com/images/P/0002005018.0...   \n",
       "2  http://images.amazon.com/images/P/0060973129.0...   \n",
       "3  http://images.amazon.com/images/P/0374157065.0...   \n",
       "4  http://images.amazon.com/images/P/0393045218.0...   \n",
       "\n",
       "                                         Image-URL-L  \n",
       "0  http://images.amazon.com/images/P/0195153448.0...  \n",
       "1  http://images.amazon.com/images/P/0002005018.0...  \n",
       "2  http://images.amazon.com/images/P/0060973129.0...  \n",
       "3  http://images.amazon.com/images/P/0374157065.0...  \n",
       "4  http://images.amazon.com/images/P/0393045218.0...  "
      ]
     },
     "execution_count": 4,
     "metadata": {},
     "output_type": "execute_result"
    }
   ],
   "source": [
    "import pandas as pd\n",
    "books = pd.read_csv('./Books.csv')\n",
    "ratings = pd.read_csv('./Ratings.csv')\n",
    "users = pd.read_csv('./Users.csv')\n",
    "\n",
    "books.head()"
   ]
  },
  {
   "cell_type": "code",
   "execution_count": 5,
   "metadata": {
    "execution": {
     "iopub.execute_input": "2023-07-20T13:04:38.634349Z",
     "iopub.status.busy": "2023-07-20T13:04:38.633930Z",
     "iopub.status.idle": "2023-07-20T13:04:38.650898Z",
     "shell.execute_reply": "2023-07-20T13:04:38.649434Z",
     "shell.execute_reply.started": "2023-07-20T13:04:38.634316Z"
    }
   },
   "outputs": [
    {
     "data": {
      "text/html": [
       "<div>\n",
       "<style scoped>\n",
       "    .dataframe tbody tr th:only-of-type {\n",
       "        vertical-align: middle;\n",
       "    }\n",
       "\n",
       "    .dataframe tbody tr th {\n",
       "        vertical-align: top;\n",
       "    }\n",
       "\n",
       "    .dataframe thead th {\n",
       "        text-align: right;\n",
       "    }\n",
       "</style>\n",
       "<table border=\"1\" class=\"dataframe\">\n",
       "  <thead>\n",
       "    <tr style=\"text-align: right;\">\n",
       "      <th></th>\n",
       "      <th>User-ID</th>\n",
       "      <th>ISBN</th>\n",
       "      <th>Book-Rating</th>\n",
       "    </tr>\n",
       "  </thead>\n",
       "  <tbody>\n",
       "    <tr>\n",
       "      <th>0</th>\n",
       "      <td>276725</td>\n",
       "      <td>034545104X</td>\n",
       "      <td>0</td>\n",
       "    </tr>\n",
       "    <tr>\n",
       "      <th>1</th>\n",
       "      <td>276726</td>\n",
       "      <td>0155061224</td>\n",
       "      <td>5</td>\n",
       "    </tr>\n",
       "    <tr>\n",
       "      <th>2</th>\n",
       "      <td>276727</td>\n",
       "      <td>0446520802</td>\n",
       "      <td>0</td>\n",
       "    </tr>\n",
       "    <tr>\n",
       "      <th>3</th>\n",
       "      <td>276729</td>\n",
       "      <td>052165615X</td>\n",
       "      <td>3</td>\n",
       "    </tr>\n",
       "    <tr>\n",
       "      <th>4</th>\n",
       "      <td>276729</td>\n",
       "      <td>0521795028</td>\n",
       "      <td>6</td>\n",
       "    </tr>\n",
       "  </tbody>\n",
       "</table>\n",
       "</div>"
      ],
      "text/plain": [
       "   User-ID        ISBN  Book-Rating\n",
       "0   276725  034545104X            0\n",
       "1   276726  0155061224            5\n",
       "2   276727  0446520802            0\n",
       "3   276729  052165615X            3\n",
       "4   276729  0521795028            6"
      ]
     },
     "execution_count": 5,
     "metadata": {},
     "output_type": "execute_result"
    }
   ],
   "source": [
    "ratings.head()"
   ]
  },
  {
   "cell_type": "code",
   "execution_count": 6,
   "metadata": {
    "execution": {
     "iopub.execute_input": "2023-07-20T13:04:38.653582Z",
     "iopub.status.busy": "2023-07-20T13:04:38.653130Z",
     "iopub.status.idle": "2023-07-20T13:04:38.700341Z",
     "shell.execute_reply": "2023-07-20T13:04:38.699154Z",
     "shell.execute_reply.started": "2023-07-20T13:04:38.653539Z"
    }
   },
   "outputs": [
    {
     "data": {
      "text/html": [
       "<div>\n",
       "<style scoped>\n",
       "    .dataframe tbody tr th:only-of-type {\n",
       "        vertical-align: middle;\n",
       "    }\n",
       "\n",
       "    .dataframe tbody tr th {\n",
       "        vertical-align: top;\n",
       "    }\n",
       "\n",
       "    .dataframe thead th {\n",
       "        text-align: right;\n",
       "    }\n",
       "</style>\n",
       "<table border=\"1\" class=\"dataframe\">\n",
       "  <thead>\n",
       "    <tr style=\"text-align: right;\">\n",
       "      <th></th>\n",
       "      <th>User-ID</th>\n",
       "      <th>Location</th>\n",
       "      <th>Age</th>\n",
       "    </tr>\n",
       "  </thead>\n",
       "  <tbody>\n",
       "    <tr>\n",
       "      <th>0</th>\n",
       "      <td>1</td>\n",
       "      <td>nyc, new york, usa</td>\n",
       "      <td>NaN</td>\n",
       "    </tr>\n",
       "    <tr>\n",
       "      <th>1</th>\n",
       "      <td>2</td>\n",
       "      <td>stockton, california, usa</td>\n",
       "      <td>18.0</td>\n",
       "    </tr>\n",
       "    <tr>\n",
       "      <th>2</th>\n",
       "      <td>3</td>\n",
       "      <td>moscow, yukon territory, russia</td>\n",
       "      <td>NaN</td>\n",
       "    </tr>\n",
       "    <tr>\n",
       "      <th>3</th>\n",
       "      <td>4</td>\n",
       "      <td>porto, v.n.gaia, portugal</td>\n",
       "      <td>17.0</td>\n",
       "    </tr>\n",
       "    <tr>\n",
       "      <th>4</th>\n",
       "      <td>5</td>\n",
       "      <td>farnborough, hants, united kingdom</td>\n",
       "      <td>NaN</td>\n",
       "    </tr>\n",
       "  </tbody>\n",
       "</table>\n",
       "</div>"
      ],
      "text/plain": [
       "   User-ID                            Location   Age\n",
       "0        1                  nyc, new york, usa   NaN\n",
       "1        2           stockton, california, usa  18.0\n",
       "2        3     moscow, yukon territory, russia   NaN\n",
       "3        4           porto, v.n.gaia, portugal  17.0\n",
       "4        5  farnborough, hants, united kingdom   NaN"
      ]
     },
     "execution_count": 6,
     "metadata": {},
     "output_type": "execute_result"
    }
   ],
   "source": [
    "users.head()"
   ]
  },
  {
   "cell_type": "code",
   "execution_count": 7,
   "metadata": {
    "execution": {
     "iopub.execute_input": "2023-07-20T13:04:38.705055Z",
     "iopub.status.busy": "2023-07-20T13:04:38.703533Z",
     "iopub.status.idle": "2023-07-20T13:04:39.448779Z",
     "shell.execute_reply": "2023-07-20T13:04:39.447708Z",
     "shell.execute_reply.started": "2023-07-20T13:04:38.705000Z"
    }
   },
   "outputs": [
    {
     "name": "stdout",
     "output_type": "stream",
     "text": [
      "<class 'pandas.core.frame.DataFrame'>\n",
      "RangeIndex: 271360 entries, 0 to 271359\n",
      "Data columns (total 8 columns):\n",
      " #   Column               Non-Null Count   Dtype \n",
      "---  ------               --------------   ----- \n",
      " 0   ISBN                 271360 non-null  object\n",
      " 1   Book-Title           271360 non-null  object\n",
      " 2   Book-Author          271359 non-null  object\n",
      " 3   Year-Of-Publication  271360 non-null  object\n",
      " 4   Publisher            271358 non-null  object\n",
      " 5   Image-URL-S          271360 non-null  object\n",
      " 6   Image-URL-M          271360 non-null  object\n",
      " 7   Image-URL-L          271357 non-null  object\n",
      "dtypes: object(8)\n",
      "memory usage: 16.6+ MB\n"
     ]
    }
   ],
   "source": [
    "books.info()"
   ]
  },
  {
   "cell_type": "code",
   "execution_count": 8,
   "metadata": {
    "execution": {
     "iopub.execute_input": "2023-07-20T13:04:39.450872Z",
     "iopub.status.busy": "2023-07-20T13:04:39.450440Z",
     "iopub.status.idle": "2023-07-20T13:04:39.921234Z",
     "shell.execute_reply": "2023-07-20T13:04:39.919392Z",
     "shell.execute_reply.started": "2023-07-20T13:04:39.450837Z"
    }
   },
   "outputs": [
    {
     "name": "stdout",
     "output_type": "stream",
     "text": [
      "<class 'pandas.core.frame.DataFrame'>\n",
      "RangeIndex: 1149780 entries, 0 to 1149779\n",
      "Data columns (total 3 columns):\n",
      " #   Column       Non-Null Count    Dtype \n",
      "---  ------       --------------    ----- \n",
      " 0   User-ID      1149780 non-null  int64 \n",
      " 1   ISBN         1149780 non-null  object\n",
      " 2   Book-Rating  1149780 non-null  int64 \n",
      "dtypes: int64(2), object(1)\n",
      "memory usage: 26.3+ MB\n"
     ]
    }
   ],
   "source": [
    "ratings.info()"
   ]
  },
  {
   "cell_type": "code",
   "execution_count": 9,
   "metadata": {
    "execution": {
     "iopub.execute_input": "2023-07-20T13:04:39.923184Z",
     "iopub.status.busy": "2023-07-20T13:04:39.922791Z",
     "iopub.status.idle": "2023-07-20T13:04:40.062368Z",
     "shell.execute_reply": "2023-07-20T13:04:40.060643Z",
     "shell.execute_reply.started": "2023-07-20T13:04:39.923143Z"
    }
   },
   "outputs": [
    {
     "name": "stdout",
     "output_type": "stream",
     "text": [
      "<class 'pandas.core.frame.DataFrame'>\n",
      "RangeIndex: 278858 entries, 0 to 278857\n",
      "Data columns (total 3 columns):\n",
      " #   Column    Non-Null Count   Dtype  \n",
      "---  ------    --------------   -----  \n",
      " 0   User-ID   278858 non-null  int64  \n",
      " 1   Location  278858 non-null  object \n",
      " 2   Age       168096 non-null  float64\n",
      "dtypes: float64(1), int64(1), object(1)\n",
      "memory usage: 6.4+ MB\n"
     ]
    }
   ],
   "source": [
    "users.info()"
   ]
  },
  {
   "cell_type": "code",
   "execution_count": 10,
   "metadata": {
    "execution": {
     "iopub.execute_input": "2023-07-20T13:04:40.064458Z",
     "iopub.status.busy": "2023-07-20T13:04:40.064059Z",
     "iopub.status.idle": "2023-07-20T13:04:40.072318Z",
     "shell.execute_reply": "2023-07-20T13:04:40.071063Z",
     "shell.execute_reply.started": "2023-07-20T13:04:40.064425Z"
    }
   },
   "outputs": [
    {
     "name": "stdout",
     "output_type": "stream",
     "text": [
      "Shape Books Data :  (271360, 8)\n",
      "Shape Ratings Data :  (1149780, 3)\n",
      "Shape Users Info Data :  (278858, 3)\n"
     ]
    }
   ],
   "source": [
    "print(\"Shape Books Data : \", books.shape)\n",
    "print(\"Shape Ratings Data : \", ratings.shape)\n",
    "print(\"Shape Users Info Data : \", users.shape)"
   ]
  },
  {
   "cell_type": "code",
   "execution_count": 11,
   "metadata": {
    "execution": {
     "iopub.execute_input": "2023-07-20T13:04:40.074923Z",
     "iopub.status.busy": "2023-07-20T13:04:40.073924Z",
     "iopub.status.idle": "2023-07-20T13:04:40.147176Z",
     "shell.execute_reply": "2023-07-20T13:04:40.145445Z",
     "shell.execute_reply.started": "2023-07-20T13:04:40.074865Z"
    }
   },
   "outputs": [
    {
     "name": "stdout",
     "output_type": "stream",
     "text": [
      "Jumlah seluruh datasets:  278858\n"
     ]
    }
   ],
   "source": [
    "import numpy as np\n",
    "df_all = np.concatenate([\n",
    "    ratings[\"User-ID\"].unique(),\n",
    "    users[\"User-ID\"].unique()\n",
    "])\n",
    "\n",
    "df_all = np.sort(np.unique(df_all))\n",
    "\n",
    "print(\"Jumlah seluruh datasets: \", len(df_all))"
   ]
  },
  {
   "cell_type": "code",
   "execution_count": 12,
   "metadata": {
    "execution": {
     "iopub.execute_input": "2023-07-20T13:04:40.149158Z",
     "iopub.status.busy": "2023-07-20T13:04:40.148778Z",
     "iopub.status.idle": "2023-07-20T13:04:42.336439Z",
     "shell.execute_reply": "2023-07-20T13:04:42.334851Z",
     "shell.execute_reply.started": "2023-07-20T13:04:40.149125Z"
    }
   },
   "outputs": [
    {
     "data": {
      "text/html": [
       "<div>\n",
       "<style scoped>\n",
       "    .dataframe tbody tr th:only-of-type {\n",
       "        vertical-align: middle;\n",
       "    }\n",
       "\n",
       "    .dataframe tbody tr th {\n",
       "        vertical-align: top;\n",
       "    }\n",
       "\n",
       "    .dataframe thead th {\n",
       "        text-align: right;\n",
       "    }\n",
       "</style>\n",
       "<table border=\"1\" class=\"dataframe\">\n",
       "  <thead>\n",
       "    <tr style=\"text-align: right;\">\n",
       "      <th></th>\n",
       "      <th>ISBN</th>\n",
       "      <th>Book-Title</th>\n",
       "      <th>Book-Author</th>\n",
       "      <th>Year-Of-Publication</th>\n",
       "      <th>Publisher</th>\n",
       "      <th>Image-URL-S</th>\n",
       "      <th>Image-URL-M</th>\n",
       "      <th>Image-URL-L</th>\n",
       "      <th>User-ID</th>\n",
       "      <th>Book-Rating</th>\n",
       "      <th>Location</th>\n",
       "      <th>Age</th>\n",
       "    </tr>\n",
       "  </thead>\n",
       "  <tbody>\n",
       "    <tr>\n",
       "      <th>0</th>\n",
       "      <td>0195153448</td>\n",
       "      <td>Classical Mythology</td>\n",
       "      <td>Mark P. O. Morford</td>\n",
       "      <td>2002</td>\n",
       "      <td>Oxford University Press</td>\n",
       "      <td>http://images.amazon.com/images/P/0195153448.0...</td>\n",
       "      <td>http://images.amazon.com/images/P/0195153448.0...</td>\n",
       "      <td>http://images.amazon.com/images/P/0195153448.0...</td>\n",
       "      <td>2.0</td>\n",
       "      <td>0.0</td>\n",
       "      <td>stockton, california, usa</td>\n",
       "      <td>18.0</td>\n",
       "    </tr>\n",
       "    <tr>\n",
       "      <th>1</th>\n",
       "      <td>0002005018</td>\n",
       "      <td>Clara Callan</td>\n",
       "      <td>Richard Bruce Wright</td>\n",
       "      <td>2001</td>\n",
       "      <td>HarperFlamingo Canada</td>\n",
       "      <td>http://images.amazon.com/images/P/0002005018.0...</td>\n",
       "      <td>http://images.amazon.com/images/P/0002005018.0...</td>\n",
       "      <td>http://images.amazon.com/images/P/0002005018.0...</td>\n",
       "      <td>8.0</td>\n",
       "      <td>5.0</td>\n",
       "      <td>timmins, ontario, canada</td>\n",
       "      <td>NaN</td>\n",
       "    </tr>\n",
       "    <tr>\n",
       "      <th>2</th>\n",
       "      <td>0002005018</td>\n",
       "      <td>Clara Callan</td>\n",
       "      <td>Richard Bruce Wright</td>\n",
       "      <td>2001</td>\n",
       "      <td>HarperFlamingo Canada</td>\n",
       "      <td>http://images.amazon.com/images/P/0002005018.0...</td>\n",
       "      <td>http://images.amazon.com/images/P/0002005018.0...</td>\n",
       "      <td>http://images.amazon.com/images/P/0002005018.0...</td>\n",
       "      <td>11400.0</td>\n",
       "      <td>0.0</td>\n",
       "      <td>ottawa, ontario, canada</td>\n",
       "      <td>49.0</td>\n",
       "    </tr>\n",
       "    <tr>\n",
       "      <th>3</th>\n",
       "      <td>0002005018</td>\n",
       "      <td>Clara Callan</td>\n",
       "      <td>Richard Bruce Wright</td>\n",
       "      <td>2001</td>\n",
       "      <td>HarperFlamingo Canada</td>\n",
       "      <td>http://images.amazon.com/images/P/0002005018.0...</td>\n",
       "      <td>http://images.amazon.com/images/P/0002005018.0...</td>\n",
       "      <td>http://images.amazon.com/images/P/0002005018.0...</td>\n",
       "      <td>11676.0</td>\n",
       "      <td>8.0</td>\n",
       "      <td>n/a, n/a, n/a</td>\n",
       "      <td>NaN</td>\n",
       "    </tr>\n",
       "    <tr>\n",
       "      <th>4</th>\n",
       "      <td>0002005018</td>\n",
       "      <td>Clara Callan</td>\n",
       "      <td>Richard Bruce Wright</td>\n",
       "      <td>2001</td>\n",
       "      <td>HarperFlamingo Canada</td>\n",
       "      <td>http://images.amazon.com/images/P/0002005018.0...</td>\n",
       "      <td>http://images.amazon.com/images/P/0002005018.0...</td>\n",
       "      <td>http://images.amazon.com/images/P/0002005018.0...</td>\n",
       "      <td>41385.0</td>\n",
       "      <td>0.0</td>\n",
       "      <td>sudbury, ontario, canada</td>\n",
       "      <td>NaN</td>\n",
       "    </tr>\n",
       "  </tbody>\n",
       "</table>\n",
       "</div>"
      ],
      "text/plain": [
       "         ISBN           Book-Title           Book-Author Year-Of-Publication  \\\n",
       "0  0195153448  Classical Mythology    Mark P. O. Morford                2002   \n",
       "1  0002005018         Clara Callan  Richard Bruce Wright                2001   \n",
       "2  0002005018         Clara Callan  Richard Bruce Wright                2001   \n",
       "3  0002005018         Clara Callan  Richard Bruce Wright                2001   \n",
       "4  0002005018         Clara Callan  Richard Bruce Wright                2001   \n",
       "\n",
       "                 Publisher                                        Image-URL-S  \\\n",
       "0  Oxford University Press  http://images.amazon.com/images/P/0195153448.0...   \n",
       "1    HarperFlamingo Canada  http://images.amazon.com/images/P/0002005018.0...   \n",
       "2    HarperFlamingo Canada  http://images.amazon.com/images/P/0002005018.0...   \n",
       "3    HarperFlamingo Canada  http://images.amazon.com/images/P/0002005018.0...   \n",
       "4    HarperFlamingo Canada  http://images.amazon.com/images/P/0002005018.0...   \n",
       "\n",
       "                                         Image-URL-M  \\\n",
       "0  http://images.amazon.com/images/P/0195153448.0...   \n",
       "1  http://images.amazon.com/images/P/0002005018.0...   \n",
       "2  http://images.amazon.com/images/P/0002005018.0...   \n",
       "3  http://images.amazon.com/images/P/0002005018.0...   \n",
       "4  http://images.amazon.com/images/P/0002005018.0...   \n",
       "\n",
       "                                         Image-URL-L  User-ID  Book-Rating  \\\n",
       "0  http://images.amazon.com/images/P/0195153448.0...      2.0          0.0   \n",
       "1  http://images.amazon.com/images/P/0002005018.0...      8.0          5.0   \n",
       "2  http://images.amazon.com/images/P/0002005018.0...  11400.0          0.0   \n",
       "3  http://images.amazon.com/images/P/0002005018.0...  11676.0          8.0   \n",
       "4  http://images.amazon.com/images/P/0002005018.0...  41385.0          0.0   \n",
       "\n",
       "                    Location   Age  \n",
       "0  stockton, california, usa  18.0  \n",
       "1   timmins, ontario, canada   NaN  \n",
       "2    ottawa, ontario, canada  49.0  \n",
       "3              n/a, n/a, n/a   NaN  \n",
       "4   sudbury, ontario, canada   NaN  "
      ]
     },
     "execution_count": 12,
     "metadata": {},
     "output_type": "execute_result"
    }
   ],
   "source": [
    "# Merge\n",
    "\n",
    "df = pd.merge(books, ratings, on='ISBN', how='left')\n",
    "\n",
    "df = pd.merge(df, users, on='User-ID', how='left')\n",
    "df.head()"
   ]
  },
  {
   "cell_type": "code",
   "execution_count": 13,
   "metadata": {
    "execution": {
     "iopub.execute_input": "2023-07-20T13:04:42.342951Z",
     "iopub.status.busy": "2023-07-20T13:04:42.342555Z",
     "iopub.status.idle": "2023-07-20T13:04:45.370225Z",
     "shell.execute_reply": "2023-07-20T13:04:45.369049Z",
     "shell.execute_reply.started": "2023-07-20T13:04:42.342919Z"
    }
   },
   "outputs": [
    {
     "name": "stdout",
     "output_type": "stream",
     "text": [
      "<class 'pandas.core.frame.DataFrame'>\n",
      "Int64Index: 1032345 entries, 0 to 1032344\n",
      "Data columns (total 12 columns):\n",
      " #   Column               Non-Null Count    Dtype  \n",
      "---  ------               --------------    -----  \n",
      " 0   ISBN                 1032345 non-null  object \n",
      " 1   Book-Title           1032345 non-null  object \n",
      " 2   Book-Author          1032344 non-null  object \n",
      " 3   Year-Of-Publication  1032345 non-null  object \n",
      " 4   Publisher            1032343 non-null  object \n",
      " 5   Image-URL-S          1032345 non-null  object \n",
      " 6   Image-URL-M          1032345 non-null  object \n",
      " 7   Image-URL-L          1032341 non-null  object \n",
      " 8   User-ID              1031136 non-null  float64\n",
      " 9   Book-Rating          1031136 non-null  float64\n",
      " 10  Location             1031136 non-null  object \n",
      " 11  Age                  753301 non-null   float64\n",
      "dtypes: float64(3), object(9)\n",
      "memory usage: 102.4+ MB\n"
     ]
    }
   ],
   "source": [
    "df.info()"
   ]
  },
  {
   "cell_type": "code",
   "execution_count": 14,
   "metadata": {
    "execution": {
     "iopub.execute_input": "2023-07-20T13:04:45.371966Z",
     "iopub.status.busy": "2023-07-20T13:04:45.371633Z",
     "iopub.status.idle": "2023-07-20T13:04:53.043799Z",
     "shell.execute_reply": "2023-07-20T13:04:53.042258Z",
     "shell.execute_reply.started": "2023-07-20T13:04:45.371936Z"
    }
   },
   "outputs": [
    {
     "data": {
      "text/html": [
       "<style type=\"text/css\">\n",
       "#T_b41fb_row0_col1, #T_b41fb_row2_col1, #T_b41fb_row4_col2, #T_b41fb_row4_col3, #T_b41fb_row5_col2, #T_b41fb_row5_col3, #T_b41fb_row6_col2, #T_b41fb_row6_col3, #T_b41fb_row7_col2, #T_b41fb_row7_col3, #T_b41fb_row8_col2, #T_b41fb_row8_col3, #T_b41fb_row9_col1, #T_b41fb_row9_col2, #T_b41fb_row9_col3, #T_b41fb_row10_col2, #T_b41fb_row10_col3, #T_b41fb_row11_col2, #T_b41fb_row11_col3 {\n",
       "  background-color: #fff7fb;\n",
       "  color: #000000;\n",
       "}\n",
       "#T_b41fb_row0_col2, #T_b41fb_row0_col3, #T_b41fb_row4_col1, #T_b41fb_row7_col1, #T_b41fb_row10_col1, #T_b41fb_row11_col1 {\n",
       "  background-color: #023858;\n",
       "  color: #f1f1f1;\n",
       "}\n",
       "#T_b41fb_row1_col1 {\n",
       "  background-color: #b3c3de;\n",
       "  color: #000000;\n",
       "}\n",
       "#T_b41fb_row1_col2, #T_b41fb_row1_col3, #T_b41fb_row2_col2, #T_b41fb_row2_col3, #T_b41fb_row3_col2, #T_b41fb_row3_col3 {\n",
       "  background-color: #fef6fb;\n",
       "  color: #000000;\n",
       "}\n",
       "#T_b41fb_row3_col1 {\n",
       "  background-color: #f2ecf5;\n",
       "  color: #000000;\n",
       "}\n",
       "#T_b41fb_row5_col1 {\n",
       "  background-color: #f6eff7;\n",
       "  color: #000000;\n",
       "}\n",
       "#T_b41fb_row6_col1 {\n",
       "  background-color: #a5bddb;\n",
       "  color: #000000;\n",
       "}\n",
       "#T_b41fb_row8_col1 {\n",
       "  background-color: #045585;\n",
       "  color: #f1f1f1;\n",
       "}\n",
       "</style>\n",
       "<table id=\"T_b41fb\">\n",
       "  <thead>\n",
       "    <tr>\n",
       "      <th class=\"blank level0\" >&nbsp;</th>\n",
       "      <th id=\"T_b41fb_level0_col0\" class=\"col_heading level0 col0\" >Data Type</th>\n",
       "      <th id=\"T_b41fb_level0_col1\" class=\"col_heading level0 col1\" >Unique Values</th>\n",
       "      <th id=\"T_b41fb_level0_col2\" class=\"col_heading level0 col2\" >Null Values</th>\n",
       "      <th id=\"T_b41fb_level0_col3\" class=\"col_heading level0 col3\" >% null Values</th>\n",
       "    </tr>\n",
       "  </thead>\n",
       "  <tbody>\n",
       "    <tr>\n",
       "      <th id=\"T_b41fb_level0_row0\" class=\"row_heading level0 row0\" >Age</th>\n",
       "      <td id=\"T_b41fb_row0_col0\" class=\"data row0 col0\" >float64</td>\n",
       "      <td id=\"T_b41fb_row0_col1\" class=\"data row0 col1\" >141</td>\n",
       "      <td id=\"T_b41fb_row0_col2\" class=\"data row0 col2\" >279044</td>\n",
       "      <td id=\"T_b41fb_row0_col3\" class=\"data row0 col3\" >0.270301</td>\n",
       "    </tr>\n",
       "    <tr>\n",
       "      <th id=\"T_b41fb_level0_row1\" class=\"row_heading level0 row1\" >User-ID</th>\n",
       "      <td id=\"T_b41fb_row1_col0\" class=\"data row1 col0\" >float64</td>\n",
       "      <td id=\"T_b41fb_row1_col1\" class=\"data row1 col1\" >92106</td>\n",
       "      <td id=\"T_b41fb_row1_col2\" class=\"data row1 col2\" >1209</td>\n",
       "      <td id=\"T_b41fb_row1_col3\" class=\"data row1 col3\" >0.001171</td>\n",
       "    </tr>\n",
       "    <tr>\n",
       "      <th id=\"T_b41fb_level0_row2\" class=\"row_heading level0 row2\" >Book-Rating</th>\n",
       "      <td id=\"T_b41fb_row2_col0\" class=\"data row2 col0\" >float64</td>\n",
       "      <td id=\"T_b41fb_row2_col1\" class=\"data row2 col1\" >11</td>\n",
       "      <td id=\"T_b41fb_row2_col2\" class=\"data row2 col2\" >1209</td>\n",
       "      <td id=\"T_b41fb_row2_col3\" class=\"data row2 col3\" >0.001171</td>\n",
       "    </tr>\n",
       "    <tr>\n",
       "      <th id=\"T_b41fb_level0_row3\" class=\"row_heading level0 row3\" >Location</th>\n",
       "      <td id=\"T_b41fb_row3_col0\" class=\"data row3 col0\" >object</td>\n",
       "      <td id=\"T_b41fb_row3_col1\" class=\"data row3 col1\" >22480</td>\n",
       "      <td id=\"T_b41fb_row3_col2\" class=\"data row3 col2\" >1209</td>\n",
       "      <td id=\"T_b41fb_row3_col3\" class=\"data row3 col3\" >0.001171</td>\n",
       "    </tr>\n",
       "    <tr>\n",
       "      <th id=\"T_b41fb_level0_row4\" class=\"row_heading level0 row4\" >Image-URL-L</th>\n",
       "      <td id=\"T_b41fb_row4_col0\" class=\"data row4 col0\" >object</td>\n",
       "      <td id=\"T_b41fb_row4_col1\" class=\"data row4 col1\" >271041</td>\n",
       "      <td id=\"T_b41fb_row4_col2\" class=\"data row4 col2\" >4</td>\n",
       "      <td id=\"T_b41fb_row4_col3\" class=\"data row4 col3\" >0.000004</td>\n",
       "    </tr>\n",
       "    <tr>\n",
       "      <th id=\"T_b41fb_level0_row5\" class=\"row_heading level0 row5\" >Publisher</th>\n",
       "      <td id=\"T_b41fb_row5_col0\" class=\"data row5 col0\" >object</td>\n",
       "      <td id=\"T_b41fb_row5_col1\" class=\"data row5 col1\" >16807</td>\n",
       "      <td id=\"T_b41fb_row5_col2\" class=\"data row5 col2\" >2</td>\n",
       "      <td id=\"T_b41fb_row5_col3\" class=\"data row5 col3\" >0.000002</td>\n",
       "    </tr>\n",
       "    <tr>\n",
       "      <th id=\"T_b41fb_level0_row6\" class=\"row_heading level0 row6\" >Book-Author</th>\n",
       "      <td id=\"T_b41fb_row6_col0\" class=\"data row6 col0\" >object</td>\n",
       "      <td id=\"T_b41fb_row6_col1\" class=\"data row6 col1\" >102023</td>\n",
       "      <td id=\"T_b41fb_row6_col2\" class=\"data row6 col2\" >1</td>\n",
       "      <td id=\"T_b41fb_row6_col3\" class=\"data row6 col3\" >0.000001</td>\n",
       "    </tr>\n",
       "    <tr>\n",
       "      <th id=\"T_b41fb_level0_row7\" class=\"row_heading level0 row7\" >ISBN</th>\n",
       "      <td id=\"T_b41fb_row7_col0\" class=\"data row7 col0\" >object</td>\n",
       "      <td id=\"T_b41fb_row7_col1\" class=\"data row7 col1\" >271360</td>\n",
       "      <td id=\"T_b41fb_row7_col2\" class=\"data row7 col2\" >0</td>\n",
       "      <td id=\"T_b41fb_row7_col3\" class=\"data row7 col3\" >0.000000</td>\n",
       "    </tr>\n",
       "    <tr>\n",
       "      <th id=\"T_b41fb_level0_row8\" class=\"row_heading level0 row8\" >Book-Title</th>\n",
       "      <td id=\"T_b41fb_row8_col0\" class=\"data row8 col0\" >object</td>\n",
       "      <td id=\"T_b41fb_row8_col1\" class=\"data row8 col1\" >242135</td>\n",
       "      <td id=\"T_b41fb_row8_col2\" class=\"data row8 col2\" >0</td>\n",
       "      <td id=\"T_b41fb_row8_col3\" class=\"data row8 col3\" >0.000000</td>\n",
       "    </tr>\n",
       "    <tr>\n",
       "      <th id=\"T_b41fb_level0_row9\" class=\"row_heading level0 row9\" >Year-Of-Publication</th>\n",
       "      <td id=\"T_b41fb_row9_col0\" class=\"data row9 col0\" >object</td>\n",
       "      <td id=\"T_b41fb_row9_col1\" class=\"data row9 col1\" >202</td>\n",
       "      <td id=\"T_b41fb_row9_col2\" class=\"data row9 col2\" >0</td>\n",
       "      <td id=\"T_b41fb_row9_col3\" class=\"data row9 col3\" >0.000000</td>\n",
       "    </tr>\n",
       "    <tr>\n",
       "      <th id=\"T_b41fb_level0_row10\" class=\"row_heading level0 row10\" >Image-URL-S</th>\n",
       "      <td id=\"T_b41fb_row10_col0\" class=\"data row10 col0\" >object</td>\n",
       "      <td id=\"T_b41fb_row10_col1\" class=\"data row10 col1\" >271044</td>\n",
       "      <td id=\"T_b41fb_row10_col2\" class=\"data row10 col2\" >0</td>\n",
       "      <td id=\"T_b41fb_row10_col3\" class=\"data row10 col3\" >0.000000</td>\n",
       "    </tr>\n",
       "    <tr>\n",
       "      <th id=\"T_b41fb_level0_row11\" class=\"row_heading level0 row11\" >Image-URL-M</th>\n",
       "      <td id=\"T_b41fb_row11_col0\" class=\"data row11 col0\" >object</td>\n",
       "      <td id=\"T_b41fb_row11_col1\" class=\"data row11 col1\" >271044</td>\n",
       "      <td id=\"T_b41fb_row11_col2\" class=\"data row11 col2\" >0</td>\n",
       "      <td id=\"T_b41fb_row11_col3\" class=\"data row11 col3\" >0.000000</td>\n",
       "    </tr>\n",
       "  </tbody>\n",
       "</table>\n"
      ],
      "text/plain": [
       "<pandas.io.formats.style.Styler at 0x7ffbb0346080>"
      ]
     },
     "execution_count": 14,
     "metadata": {},
     "output_type": "execute_result"
    }
   ],
   "source": [
    "dtypes = pd.DataFrame(df.dtypes,columns=[\"Data Type\"])\n",
    "\n",
    "dtypes[\"Unique Values\"]=df.nunique().sort_values(ascending=True)\n",
    "\n",
    "dtypes[\"Null Values\"]=df.isnull().sum()\n",
    "\n",
    "dtypes[\"% null Values\"]=df.isnull().sum()/len(df)\n",
    "\n",
    "dtypes.sort_values(by=\"Null Values\" , ascending=False).style.background_gradient(axis=0)"
   ]
  },
  {
   "cell_type": "markdown",
   "metadata": {},
   "source": [
    "## Data Preparation\n",
    "\n",
    "Menerapkan dan menyebutkan teknik data preparation yang dilakukan.\n",
    "\n",
    "Teknik yang digunakan pada notebook dan laporan harus berurutan.\n",
    "\n",
    "Menjelaskan proses data preparation yang dilakukan.\n",
    "\n",
    "Menjelaskan alasan mengapa diperlukan tahapan data preparation tersebut.\n",
    "\n",
    "Handling null Value, ini perlu sebab data yang digunakan jauh dari kata bersih / clean"
   ]
  },
  {
   "cell_type": "code",
   "execution_count": 15,
   "metadata": {
    "execution": {
     "iopub.execute_input": "2023-07-20T13:04:53.045805Z",
     "iopub.status.busy": "2023-07-20T13:04:53.045440Z",
     "iopub.status.idle": "2023-07-20T13:04:56.034609Z",
     "shell.execute_reply": "2023-07-20T13:04:56.033454Z",
     "shell.execute_reply.started": "2023-07-20T13:04:53.045773Z"
    }
   },
   "outputs": [
    {
     "data": {
      "text/plain": [
       "ISBN                        0\n",
       "Book-Title                  0\n",
       "Book-Author                 1\n",
       "Year-Of-Publication         0\n",
       "Publisher                   2\n",
       "Image-URL-S                 0\n",
       "Image-URL-M                 0\n",
       "Image-URL-L                 4\n",
       "User-ID                  1209\n",
       "Book-Rating              1209\n",
       "Location                 1209\n",
       "Age                    279044\n",
       "dtype: int64"
      ]
     },
     "execution_count": 15,
     "metadata": {},
     "output_type": "execute_result"
    }
   ],
   "source": [
    "df.isnull().sum()"
   ]
  },
  {
   "cell_type": "code",
   "execution_count": 16,
   "metadata": {
    "execution": {
     "iopub.execute_input": "2023-07-20T13:04:56.037202Z",
     "iopub.status.busy": "2023-07-20T13:04:56.036223Z",
     "iopub.status.idle": "2023-07-20T13:04:59.769197Z",
     "shell.execute_reply": "2023-07-20T13:04:59.767734Z",
     "shell.execute_reply.started": "2023-07-20T13:04:56.037166Z"
    }
   },
   "outputs": [],
   "source": [
    "df = df.dropna()\n"
   ]
  },
  {
   "cell_type": "code",
   "execution_count": 17,
   "metadata": {
    "execution": {
     "iopub.execute_input": "2023-07-20T13:04:59.771317Z",
     "iopub.status.busy": "2023-07-20T13:04:59.770910Z",
     "iopub.status.idle": "2023-07-20T13:05:02.005862Z",
     "shell.execute_reply": "2023-07-20T13:05:02.004049Z",
     "shell.execute_reply.started": "2023-07-20T13:04:59.771285Z"
    }
   },
   "outputs": [
    {
     "data": {
      "text/plain": [
       "ISBN                   0\n",
       "Book-Title             0\n",
       "Book-Author            0\n",
       "Year-Of-Publication    0\n",
       "Publisher              0\n",
       "Image-URL-S            0\n",
       "Image-URL-M            0\n",
       "Image-URL-L            0\n",
       "User-ID                0\n",
       "Book-Rating            0\n",
       "Location               0\n",
       "Age                    0\n",
       "dtype: int64"
      ]
     },
     "execution_count": 17,
     "metadata": {},
     "output_type": "execute_result"
    }
   ],
   "source": [
    "df.isnull().sum()"
   ]
  },
  {
   "cell_type": "code",
   "execution_count": 18,
   "metadata": {
    "execution": {
     "iopub.execute_input": "2023-07-20T13:05:02.008402Z",
     "iopub.status.busy": "2023-07-20T13:05:02.007732Z",
     "iopub.status.idle": "2023-07-20T13:05:04.236404Z",
     "shell.execute_reply": "2023-07-20T13:05:04.235343Z",
     "shell.execute_reply.started": "2023-07-20T13:05:02.008358Z"
    }
   },
   "outputs": [
    {
     "name": "stdout",
     "output_type": "stream",
     "text": [
      "<class 'pandas.core.frame.DataFrame'>\n",
      "Int64Index: 753296 entries, 0 to 1032344\n",
      "Data columns (total 12 columns):\n",
      " #   Column               Non-Null Count   Dtype  \n",
      "---  ------               --------------   -----  \n",
      " 0   ISBN                 753296 non-null  object \n",
      " 1   Book-Title           753296 non-null  object \n",
      " 2   Book-Author          753296 non-null  object \n",
      " 3   Year-Of-Publication  753296 non-null  object \n",
      " 4   Publisher            753296 non-null  object \n",
      " 5   Image-URL-S          753296 non-null  object \n",
      " 6   Image-URL-M          753296 non-null  object \n",
      " 7   Image-URL-L          753296 non-null  object \n",
      " 8   User-ID              753296 non-null  float64\n",
      " 9   Book-Rating          753296 non-null  float64\n",
      " 10  Location             753296 non-null  object \n",
      " 11  Age                  753296 non-null  float64\n",
      "dtypes: float64(3), object(9)\n",
      "memory usage: 74.7+ MB\n"
     ]
    }
   ],
   "source": [
    "df.info()\n"
   ]
  },
  {
   "cell_type": "code",
   "execution_count": 19,
   "metadata": {
    "execution": {
     "iopub.execute_input": "2023-07-20T13:05:04.239007Z",
     "iopub.status.busy": "2023-07-20T13:05:04.238411Z",
     "iopub.status.idle": "2023-07-20T13:05:04.246483Z",
     "shell.execute_reply": "2023-07-20T13:05:04.245574Z",
     "shell.execute_reply.started": "2023-07-20T13:05:04.238940Z"
    }
   },
   "outputs": [
    {
     "data": {
      "text/plain": [
       "(753296, 12)"
      ]
     },
     "execution_count": 19,
     "metadata": {},
     "output_type": "execute_result"
    }
   ],
   "source": [
    "df.shape"
   ]
  },
  {
   "cell_type": "markdown",
   "metadata": {},
   "source": [
    "Filter Column yang akan kita gunakan, ini perlu karena tidak semua kolom akan kita gunakan, hanya kolom yang dirasa akan dibutuhkan oleh requirement tim pengembang"
   ]
  },
  {
   "cell_type": "code",
   "execution_count": 20,
   "metadata": {
    "execution": {
     "iopub.execute_input": "2023-07-20T13:05:04.247960Z",
     "iopub.status.busy": "2023-07-20T13:05:04.247619Z",
     "iopub.status.idle": "2023-07-20T13:05:04.302117Z",
     "shell.execute_reply": "2023-07-20T13:05:04.300929Z",
     "shell.execute_reply.started": "2023-07-20T13:05:04.247929Z"
    }
   },
   "outputs": [],
   "source": [
    "used_columns = ['ISBN','Book-Title','Book-Author','Publisher','Book-Rating','User-ID','Age',]\n",
    "new_df = df[used_columns]"
   ]
  },
  {
   "cell_type": "code",
   "execution_count": 21,
   "metadata": {
    "execution": {
     "iopub.execute_input": "2023-07-20T13:05:04.304212Z",
     "iopub.status.busy": "2023-07-20T13:05:04.303627Z",
     "iopub.status.idle": "2023-07-20T13:05:05.291974Z",
     "shell.execute_reply": "2023-07-20T13:05:05.290439Z",
     "shell.execute_reply.started": "2023-07-20T13:05:04.304168Z"
    }
   },
   "outputs": [
    {
     "data": {
      "text/plain": [
       "ISBN           0\n",
       "Book-Title     0\n",
       "Book-Author    0\n",
       "Publisher      0\n",
       "Book-Rating    0\n",
       "User-ID        0\n",
       "Age            0\n",
       "dtype: int64"
      ]
     },
     "execution_count": 21,
     "metadata": {},
     "output_type": "execute_result"
    }
   ],
   "source": [
    "new_df.isnull().sum()"
   ]
  },
  {
   "cell_type": "markdown",
   "metadata": {},
   "source": [
    "Banyak value yang unbalance, misal di bagian Publisher, ada 1 Publisher berisi 20.000 value sedangkan ada Publisher yang hanya berisi 1 value... maka dari itu akan kita proses Publisher yang value nya kurang dari 1000 akan kita drop atau hapus"
   ]
  },
  {
   "cell_type": "code",
   "execution_count": 22,
   "metadata": {
    "execution": {
     "iopub.execute_input": "2023-07-20T13:05:05.294128Z",
     "iopub.status.busy": "2023-07-20T13:05:05.293615Z",
     "iopub.status.idle": "2023-07-20T13:05:06.289994Z",
     "shell.execute_reply": "2023-07-20T13:05:06.288976Z",
     "shell.execute_reply.started": "2023-07-20T13:05:05.294083Z"
    }
   },
   "outputs": [
    {
     "name": "stdout",
     "output_type": "stream",
     "text": [
      "\n",
      "ISBN\n",
      "0971880107    2141\n",
      "0316666343     920\n",
      "0385504209     695\n",
      "0060928336     509\n",
      "0671027360     482\n",
      "              ... \n",
      "0310490707       1\n",
      "0811720896       1\n",
      "0425063976       1\n",
      "1572492546       1\n",
      "0767409752       1\n",
      "Name: ISBN, Length: 228996, dtype: int64\n",
      "\n",
      "Book-Title\n",
      "Wild Animus                                                                                                                       2141\n",
      "The Lovely Bones: A Novel                                                                                                          920\n",
      "The Da Vinci Code                                                                                                                  708\n",
      "Bridget Jones's Diary                                                                                                              599\n",
      "The Nanny Diaries: A Novel                                                                                                         573\n",
      "                                                                                                                                  ... \n",
      "Fire Fighters                                                                                                                        1\n",
      "Libro de sueÃ±os                                                                                                                     1\n",
      "Get Dressed, Santa!                                                                                                                  1\n",
      "Blue Hat, Green Hat (Boynton, Sandra. Boynton Board Books.)                                                                          1\n",
      "A Guided Tour of Rene Descartes' Meditations on First Philosophy with Complete Translations of the Meditations by Ronald Rubin       1\n",
      "Name: Book-Title, Length: 205170, dtype: int64\n",
      "\n",
      "Book-Author\n",
      "Stephen King           7664\n",
      "Nora Roberts           6407\n",
      "John Grisham           4168\n",
      "James Patterson        4096\n",
      "Mary Higgins Clark     3372\n",
      "                       ... \n",
      "Jane Sharp                1\n",
      "Donna G. Albrecht         1\n",
      "Helen Webber              1\n",
      "Marc Saltzman             1\n",
      "Christopher  Biffle       1\n",
      "Name: Book-Author, Length: 87236, dtype: int64\n",
      "\n",
      "Publisher\n",
      "Ballantine Books                  24707\n",
      "Pocket                            23352\n",
      "Berkley Publishing Group          20247\n",
      "Harlequin                         19564\n",
      "Warner Books                      18118\n",
      "                                  ...  \n",
      "Professional Women's Institute        1\n",
      "Integrity Press (KS)                  1\n",
      "Dawn                                  1\n",
      "Meyer &amp; Assoc.                    1\n",
      "Connaught                             1\n",
      "Name: Publisher, Length: 14500, dtype: int64\n",
      "\n",
      "Book-Rating\n",
      "0.0     483679\n",
      "8.0      64823\n",
      "10.0     53943\n",
      "7.0      45538\n",
      "9.0      45249\n",
      "5.0      27744\n",
      "6.0      21445\n",
      "4.0       5096\n",
      "3.0       3331\n",
      "2.0       1562\n",
      "1.0        886\n",
      "Name: Book-Rating, dtype: int64\n",
      "\n",
      "User-ID\n",
      "198711.0    6456\n",
      "153662.0    5814\n",
      "98391.0     5777\n",
      "76352.0     3329\n",
      "110973.0    2971\n",
      "            ... \n",
      "78254.0        1\n",
      "124647.0       1\n",
      "10696.0        1\n",
      "10687.0        1\n",
      "259679.0       1\n",
      "Name: User-ID, Length: 53887, dtype: int64\n",
      "\n",
      "Age\n",
      "33.0     32862\n",
      "29.0     30646\n",
      "30.0     27201\n",
      "32.0     26490\n",
      "36.0     26096\n",
      "         ...  \n",
      "105.0        1\n",
      "157.0        1\n",
      "94.0         1\n",
      "147.0        1\n",
      "98.0         1\n",
      "Name: Age, Length: 141, dtype: int64\n"
     ]
    }
   ],
   "source": [
    "for column in new_df.columns:\n",
    " print(\"\\n\" + column)\n",
    " print(new_df[column].value_counts())"
   ]
  },
  {
   "cell_type": "markdown",
   "metadata": {},
   "source": [
    "### Problem\n",
    "Data terlalu banyak jadi cosine smiliarity sangat memakan waktu lama jadi akan kita buat conditions ketika Publisher kurang dari 500 akan kita drop, lalu akan kita drop juga ISBN yang sama agar mengurangi data"
   ]
  },
  {
   "cell_type": "code",
   "execution_count": 23,
   "metadata": {
    "execution": {
     "iopub.execute_input": "2023-07-20T13:05:06.291721Z",
     "iopub.status.busy": "2023-07-20T13:05:06.291303Z",
     "iopub.status.idle": "2023-07-20T13:05:06.368841Z",
     "shell.execute_reply": "2023-07-20T13:05:06.367394Z",
     "shell.execute_reply.started": "2023-07-20T13:05:06.291688Z"
    }
   },
   "outputs": [
    {
     "data": {
      "text/plain": [
       "(228996, 7)"
      ]
     },
     "execution_count": 23,
     "metadata": {},
     "output_type": "execute_result"
    }
   ],
   "source": [
    "df_new = new_df.drop_duplicates(subset='ISBN')\n",
    "df_new.shape"
   ]
  },
  {
   "cell_type": "code",
   "execution_count": 24,
   "metadata": {
    "execution": {
     "iopub.execute_input": "2023-07-20T13:05:06.370645Z",
     "iopub.status.busy": "2023-07-20T13:05:06.370303Z",
     "iopub.status.idle": "2023-07-20T13:05:06.378891Z",
     "shell.execute_reply": "2023-07-20T13:05:06.377499Z",
     "shell.execute_reply.started": "2023-07-20T13:05:06.370617Z"
    }
   },
   "outputs": [
    {
     "data": {
      "text/plain": [
       "(228996, 7)"
      ]
     },
     "execution_count": 24,
     "metadata": {},
     "output_type": "execute_result"
    }
   ],
   "source": [
    "df_new.shape"
   ]
  },
  {
   "cell_type": "code",
   "execution_count": 25,
   "metadata": {
    "execution": {
     "iopub.execute_input": "2023-07-20T13:05:06.380959Z",
     "iopub.status.busy": "2023-07-20T13:05:06.380577Z",
     "iopub.status.idle": "2023-07-20T13:05:06.523862Z",
     "shell.execute_reply": "2023-07-20T13:05:06.522325Z",
     "shell.execute_reply.started": "2023-07-20T13:05:06.380929Z"
    }
   },
   "outputs": [],
   "source": [
    "counts = df_new['Publisher'].value_counts()\n",
    "df = df_new[~df_new['Publisher'].isin(counts[counts < 50].index)]"
   ]
  },
  {
   "cell_type": "code",
   "execution_count": 26,
   "metadata": {
    "execution": {
     "iopub.execute_input": "2023-07-20T13:05:06.526059Z",
     "iopub.status.busy": "2023-07-20T13:05:06.525612Z",
     "iopub.status.idle": "2023-07-20T13:05:06.533098Z",
     "shell.execute_reply": "2023-07-20T13:05:06.532216Z",
     "shell.execute_reply.started": "2023-07-20T13:05:06.526018Z"
    }
   },
   "outputs": [
    {
     "data": {
      "text/plain": [
       "(172937, 7)"
      ]
     },
     "execution_count": 26,
     "metadata": {},
     "output_type": "execute_result"
    }
   ],
   "source": [
    "df.shape"
   ]
  },
  {
   "cell_type": "code",
   "execution_count": 27,
   "metadata": {
    "execution": {
     "iopub.execute_input": "2023-07-20T13:05:06.535682Z",
     "iopub.status.busy": "2023-07-20T13:05:06.534257Z",
     "iopub.status.idle": "2023-07-20T13:05:06.546589Z",
     "shell.execute_reply": "2023-07-20T13:05:06.545568Z",
     "shell.execute_reply.started": "2023-07-20T13:05:06.535620Z"
    }
   },
   "outputs": [],
   "source": [
    "# counts = df['Book-Title'].value_counts()\n",
    "# df = df[~df['Book-Title'].isin(counts[counts < 50].index)]"
   ]
  },
  {
   "cell_type": "markdown",
   "metadata": {},
   "source": [
    "### EDA"
   ]
  },
  {
   "cell_type": "code",
   "execution_count": 28,
   "metadata": {
    "execution": {
     "iopub.execute_input": "2023-07-20T13:05:06.548721Z",
     "iopub.status.busy": "2023-07-20T13:05:06.548206Z",
     "iopub.status.idle": "2023-07-20T13:05:06.567181Z",
     "shell.execute_reply": "2023-07-20T13:05:06.566004Z",
     "shell.execute_reply.started": "2023-07-20T13:05:06.548677Z"
    }
   },
   "outputs": [
    {
     "data": {
      "text/plain": [
       "(172937, 7)"
      ]
     },
     "execution_count": 28,
     "metadata": {},
     "output_type": "execute_result"
    }
   ],
   "source": [
    "df.shape"
   ]
  },
  {
   "cell_type": "code",
   "execution_count": 29,
   "metadata": {
    "execution": {
     "iopub.execute_input": "2023-07-20T13:05:06.569743Z",
     "iopub.status.busy": "2023-07-20T13:05:06.568655Z",
     "iopub.status.idle": "2023-07-20T13:05:06.816087Z",
     "shell.execute_reply": "2023-07-20T13:05:06.814652Z",
     "shell.execute_reply.started": "2023-07-20T13:05:06.569700Z"
    }
   },
   "outputs": [
    {
     "name": "stdout",
     "output_type": "stream",
     "text": [
      "<class 'pandas.core.frame.DataFrame'>\n",
      "Int64Index: 172937 entries, 0 to 1032344\n",
      "Data columns (total 7 columns):\n",
      " #   Column       Non-Null Count   Dtype  \n",
      "---  ------       --------------   -----  \n",
      " 0   ISBN         172937 non-null  object \n",
      " 1   Book-Title   172937 non-null  object \n",
      " 2   Book-Author  172937 non-null  object \n",
      " 3   Publisher    172937 non-null  object \n",
      " 4   Book-Rating  172937 non-null  float64\n",
      " 5   User-ID      172937 non-null  float64\n",
      " 6   Age          172937 non-null  float64\n",
      "dtypes: float64(3), object(4)\n",
      "memory usage: 10.6+ MB\n"
     ]
    }
   ],
   "source": [
    "df.info()\n"
   ]
  },
  {
   "cell_type": "code",
   "execution_count": 30,
   "metadata": {
    "execution": {
     "iopub.execute_input": "2023-07-20T13:05:06.818283Z",
     "iopub.status.busy": "2023-07-20T13:05:06.817399Z",
     "iopub.status.idle": "2023-07-20T13:05:11.506922Z",
     "shell.execute_reply": "2023-07-20T13:05:11.505672Z",
     "shell.execute_reply.started": "2023-07-20T13:05:06.818247Z"
    }
   },
   "outputs": [
    {
     "name": "stderr",
     "output_type": "stream",
     "text": [
      "/opt/conda/lib/python3.10/site-packages/scipy/__init__.py:146: UserWarning: A NumPy version >=1.16.5 and <1.23.0 is required for this version of SciPy (detected version 1.23.5\n",
      "  warnings.warn(f\"A NumPy version >={np_minversion} and <{np_maxversion}\"\n"
     ]
    },
    {
     "data": {
      "image/png": "[encoded data removed]",
      "text/plain": [
       "<Figure size 640x480 with 1 Axes>"
      ]
     },
     "metadata": {},
     "output_type": "display_data"
    },
    {
     "data": {
      "image/png": "[encoded data removed]",
      "text/plain": [
       "<Figure size 640x480 with 1 Axes>"
      ]
     },
     "metadata": {},
     "output_type": "display_data"
    },
    {
     "data": {
      "image/png": "[encoded data removed]",
      "text/plain": [
       "<Figure size 640x480 with 1 Axes>"
      ]
     },
     "metadata": {},
     "output_type": "display_data"
    },
    {
     "data": {
      "image/png": "[encoded data removed]",
      "text/plain": [
       "<Figure size 640x480 with 1 Axes>"
      ]
     },
     "metadata": {},
     "output_type": "display_data"
    }
   ],
   "source": [
    "import matplotlib.pyplot as plt\n",
    "import seaborn as sns\n",
    "\n",
    "cat_features = [\"Publisher\",\"Book-Title\",\"Book-Author\",'Age']\n",
    "\n",
    "for col in range(len(cat_features)):\n",
    "    plt.figure()\n",
    "    plt.xticks(rotation=90)\n",
    "    plt.title(f'Count Plot Column {cat_features[col]}')\n",
    "    sns.countplot(x = cat_features[col],data = df, order = df[cat_features[col]].value_counts().iloc[:20].index)"
   ]
  },
  {
   "cell_type": "markdown",
   "metadata": {},
   "source": [
    "label encoder untuk mengubah data kategorikal menjadi data number"
   ]
  },
  {
   "cell_type": "code",
   "execution_count": 31,
   "metadata": {
    "execution": {
     "iopub.execute_input": "2023-07-20T13:05:11.512974Z",
     "iopub.status.busy": "2023-07-20T13:05:11.512589Z",
     "iopub.status.idle": "2023-07-20T13:05:13.725945Z",
     "shell.execute_reply": "2023-07-20T13:05:13.724580Z",
     "shell.execute_reply.started": "2023-07-20T13:05:11.512940Z"
    }
   },
   "outputs": [
    {
     "name": "stderr",
     "output_type": "stream",
     "text": [
      "/tmp/ipykernel_32/2776266920.py:3: SettingWithCopyWarning: \n",
      "A value is trying to be set on a copy of a slice from a DataFrame.\n",
      "Try using .loc[row_indexer,col_indexer] = value instead\n",
      "\n",
      "See the caveats in the documentation: https://pandas.pydata.org/pandas-docs/stable/user_guide/indexing.html#returning-a-view-versus-a-copy\n",
      "  df['ISBN_le'] = le.fit_transform(df['ISBN'])\n",
      "/tmp/ipykernel_32/2776266920.py:4: SettingWithCopyWarning: \n",
      "A value is trying to be set on a copy of a slice from a DataFrame.\n",
      "Try using .loc[row_indexer,col_indexer] = value instead\n",
      "\n",
      "See the caveats in the documentation: https://pandas.pydata.org/pandas-docs/stable/user_guide/indexing.html#returning-a-view-versus-a-copy\n",
      "  df['Publisher_le'] = le.fit_transform(df['Publisher'])\n",
      "/tmp/ipykernel_32/2776266920.py:5: SettingWithCopyWarning: \n",
      "A value is trying to be set on a copy of a slice from a DataFrame.\n",
      "Try using .loc[row_indexer,col_indexer] = value instead\n",
      "\n",
      "See the caveats in the documentation: https://pandas.pydata.org/pandas-docs/stable/user_guide/indexing.html#returning-a-view-versus-a-copy\n",
      "  df['Book-Author_le'] = le.fit_transform(df['Book-Author'])\n",
      "/tmp/ipykernel_32/2776266920.py:6: SettingWithCopyWarning: \n",
      "A value is trying to be set on a copy of a slice from a DataFrame.\n",
      "Try using .loc[row_indexer,col_indexer] = value instead\n",
      "\n",
      "See the caveats in the documentation: https://pandas.pydata.org/pandas-docs/stable/user_guide/indexing.html#returning-a-view-versus-a-copy\n",
      "  df['Book-Title_le'] = le.fit_transform(df['Book-Title'])\n"
     ]
    }
   ],
   "source": [
    "from sklearn.preprocessing import LabelEncoder\n",
    "le = LabelEncoder()\n",
    "df['ISBN_le'] = le.fit_transform(df['ISBN'])\n",
    "df['Publisher_le'] = le.fit_transform(df['Publisher'])\n",
    "df['Book-Author_le'] = le.fit_transform(df['Book-Author'])\n",
    "df['Book-Title_le'] = le.fit_transform(df['Book-Title'])\n"
   ]
  },
  {
   "cell_type": "code",
   "execution_count": 32,
   "metadata": {
    "execution": {
     "iopub.execute_input": "2023-07-20T13:05:13.727849Z",
     "iopub.status.busy": "2023-07-20T13:05:13.727450Z",
     "iopub.status.idle": "2023-07-20T13:05:14.318063Z",
     "shell.execute_reply": "2023-07-20T13:05:14.316737Z",
     "shell.execute_reply.started": "2023-07-20T13:05:13.727816Z"
    }
   },
   "outputs": [
    {
     "name": "stderr",
     "output_type": "stream",
     "text": [
      "/tmp/ipykernel_32/4136554616.py:3: FutureWarning: The default value of numeric_only in DataFrame.corr is deprecated. In a future version, it will default to False. Select only valid columns or specify the value of numeric_only to silence this warning.\n",
      "  sns.heatmap(df.corr(), annot=True)\n"
     ]
    },
    {
     "data": {
      "image/png": "[encoded data removed]",
      "text/plain": [
       "<Figure size 1500x1000 with 2 Axes>"
      ]
     },
     "metadata": {},
     "output_type": "display_data"
    }
   ],
   "source": [
    "# Сorrelation matrix\n",
    "plt.figure(figsize=[15,10])\n",
    "sns.heatmap(df.corr(), annot=True)\n",
    "plt.show()\n"
   ]
  },
  {
   "cell_type": "code",
   "execution_count": 108,
   "metadata": {
    "execution": {
     "iopub.execute_input": "2023-07-20T23:28:26.089816Z",
     "iopub.status.busy": "2023-07-20T23:28:26.089390Z",
     "iopub.status.idle": "2023-07-20T23:28:26.105905Z",
     "shell.execute_reply": "2023-07-20T23:28:26.105089Z",
     "shell.execute_reply.started": "2023-07-20T23:28:26.089781Z"
    }
   },
   "outputs": [
    {
     "data": {
      "text/html": [
       "<div>\n",
       "<style scoped>\n",
       "    .dataframe tbody tr th:only-of-type {\n",
       "        vertical-align: middle;\n",
       "    }\n",
       "\n",
       "    .dataframe tbody tr th {\n",
       "        vertical-align: top;\n",
       "    }\n",
       "\n",
       "    .dataframe thead th {\n",
       "        text-align: right;\n",
       "    }\n",
       "</style>\n",
       "<table border=\"1\" class=\"dataframe\">\n",
       "  <thead>\n",
       "    <tr style=\"text-align: right;\">\n",
       "      <th></th>\n",
       "      <th>Book-Rating</th>\n",
       "      <th>User-ID</th>\n",
       "      <th>Book-Title</th>\n",
       "    </tr>\n",
       "  </thead>\n",
       "  <tbody>\n",
       "    <tr>\n",
       "      <th>0</th>\n",
       "      <td>7.0</td>\n",
       "      <td>4581</td>\n",
       "      <td>31371</td>\n",
       "    </tr>\n",
       "    <tr>\n",
       "      <th>1</th>\n",
       "      <td>0.0</td>\n",
       "      <td>2651</td>\n",
       "      <td>46872</td>\n",
       "    </tr>\n",
       "    <tr>\n",
       "      <th>2</th>\n",
       "      <td>0.0</td>\n",
       "      <td>2594</td>\n",
       "      <td>33701</td>\n",
       "    </tr>\n",
       "    <tr>\n",
       "      <th>3</th>\n",
       "      <td>10.0</td>\n",
       "      <td>3347</td>\n",
       "      <td>10315</td>\n",
       "    </tr>\n",
       "    <tr>\n",
       "      <th>4</th>\n",
       "      <td>0.0</td>\n",
       "      <td>1293</td>\n",
       "      <td>9363</td>\n",
       "    </tr>\n",
       "    <tr>\n",
       "      <th>...</th>\n",
       "      <td>...</td>\n",
       "      <td>...</td>\n",
       "      <td>...</td>\n",
       "    </tr>\n",
       "    <tr>\n",
       "      <th>99995</th>\n",
       "      <td>0.0</td>\n",
       "      <td>2002</td>\n",
       "      <td>4951</td>\n",
       "    </tr>\n",
       "    <tr>\n",
       "      <th>99996</th>\n",
       "      <td>0.0</td>\n",
       "      <td>2017</td>\n",
       "      <td>54798</td>\n",
       "    </tr>\n",
       "    <tr>\n",
       "      <th>99997</th>\n",
       "      <td>9.0</td>\n",
       "      <td>822</td>\n",
       "      <td>36015</td>\n",
       "    </tr>\n",
       "    <tr>\n",
       "      <th>99998</th>\n",
       "      <td>0.0</td>\n",
       "      <td>348</td>\n",
       "      <td>12411</td>\n",
       "    </tr>\n",
       "    <tr>\n",
       "      <th>99999</th>\n",
       "      <td>9.0</td>\n",
       "      <td>429</td>\n",
       "      <td>476</td>\n",
       "    </tr>\n",
       "  </tbody>\n",
       "</table>\n",
       "<p>100000 rows × 3 columns</p>\n",
       "</div>"
      ],
      "text/plain": [
       "       Book-Rating  User-ID  Book-Title\n",
       "0              7.0     4581       31371\n",
       "1              0.0     2651       46872\n",
       "2              0.0     2594       33701\n",
       "3             10.0     3347       10315\n",
       "4              0.0     1293        9363\n",
       "...            ...      ...         ...\n",
       "99995          0.0     2002        4951\n",
       "99996          0.0     2017       54798\n",
       "99997          9.0      822       36015\n",
       "99998          0.0      348       12411\n",
       "99999          9.0      429         476\n",
       "\n",
       "[100000 rows x 3 columns]"
      ]
     },
     "execution_count": 108,
     "metadata": {},
     "output_type": "execute_result"
    }
   ],
   "source": [
    "df.reset_index(drop=True)"
   ]
  },
  {
   "cell_type": "markdown",
   "metadata": {},
   "source": [
    "## Modeling and Result\n",
    "\n",
    "### Consine Similiarity/Content Base Similiarity\n",
    "\n",
    "Membuat dan menjelaskan sistem rekomendasi untuk menyelesaikan permasalahan\n",
    "\n",
    "Menyajikan top-N recommendation sebagai output.\n",
    "\n",
    "Menyajikan dua solusi rekomendasi dengan algoritma yang berbeda.\n",
    "\n",
    "Menjelaskan kelebihan dan kekurangan pada pendekatan yang dipilih.\n",
    "\n",
    "Cosine similarity mengukur kesamaan antara dua vektor dan menentukan apakah kedua vektor tersebut menunjuk ke arah yang sama. Ia menghitung sudut cosinus antara dua vektor. Semakin kecil sudut cosinus, semakin besar nilai cosine similarity.\n",
    "\n",
    "Metrik ini sering digunakan untuk mengukur kesamaan dokumen dalam analisis teks. Sebagai contoh, dalam studi kasus ini, cosine similarity digunakan untuk mengukur kesamaan nama restoran dan nama masakan.\n",
    "\n",
    "Maka dari itu saya gunakan Similarity untuk mencari kesamaan _Publisher_ dan _age_ untuk rekomendasi"
   ]
  },
  {
   "cell_type": "code",
   "execution_count": 34,
   "metadata": {
    "execution": {
     "iopub.execute_input": "2023-07-20T13:05:14.367135Z",
     "iopub.status.busy": "2023-07-20T13:05:14.366655Z",
     "iopub.status.idle": "2023-07-20T13:05:14.515567Z",
     "shell.execute_reply": "2023-07-20T13:05:14.513906Z",
     "shell.execute_reply.started": "2023-07-20T13:05:14.367098Z"
    }
   },
   "outputs": [],
   "source": [
    "from sklearn.feature_extraction.text import CountVectorizer\n",
    "from sklearn.metrics.pairwise import cosine_similarity\n",
    "\n",
    "\n",
    "# cv = CountVectorizer(lowercase=False)\n",
    "\n",
    "# cosim_df = cv.fit_transform(df['Book-Author'])\n",
    "# cosine_sim = cosine_similarity(cosim_df)"
   ]
  },
  {
   "cell_type": "code",
   "execution_count": 107,
   "metadata": {
    "execution": {
     "iopub.execute_input": "2023-07-20T23:28:17.705963Z",
     "iopub.status.busy": "2023-07-20T23:28:17.705570Z",
     "iopub.status.idle": "2023-07-20T23:28:17.717041Z",
     "shell.execute_reply": "2023-07-20T23:28:17.715774Z",
     "shell.execute_reply.started": "2023-07-20T23:28:17.705932Z"
    }
   },
   "outputs": [
    {
     "data": {
      "text/plain": [
       "Book-Rating    0\n",
       "User-ID        0\n",
       "Book-Title     0\n",
       "dtype: int64"
      ]
     },
     "execution_count": 107,
     "metadata": {},
     "output_type": "execute_result"
    }
   ],
   "source": [
    "df.isnull().sum()\n"
   ]
  },
  {
   "cell_type": "code",
   "execution_count": 36,
   "metadata": {
    "execution": {
     "iopub.execute_input": "2023-07-20T13:05:14.768466Z",
     "iopub.status.busy": "2023-07-20T13:05:14.767870Z",
     "iopub.status.idle": "2023-07-20T13:05:15.032867Z",
     "shell.execute_reply": "2023-07-20T13:05:15.031633Z",
     "shell.execute_reply.started": "2023-07-20T13:05:14.768409Z"
    }
   },
   "outputs": [],
   "source": [
    "df = df.dropna()"
   ]
  },
  {
   "cell_type": "code",
   "execution_count": 106,
   "metadata": {
    "execution": {
     "iopub.execute_input": "2023-07-20T23:27:11.416858Z",
     "iopub.status.busy": "2023-07-20T23:27:11.416462Z",
     "iopub.status.idle": "2023-07-20T23:27:11.428634Z",
     "shell.execute_reply": "2023-07-20T23:27:11.427409Z",
     "shell.execute_reply.started": "2023-07-20T23:27:11.416827Z"
    }
   },
   "outputs": [
    {
     "data": {
      "text/plain": [
       "Book-Rating    0\n",
       "User-ID        0\n",
       "Book-Title     0\n",
       "dtype: int64"
      ]
     },
     "execution_count": 106,
     "metadata": {},
     "output_type": "execute_result"
    }
   ],
   "source": [
    "df.isnull().sum()"
   ]
  },
  {
   "cell_type": "code",
   "execution_count": 104,
   "metadata": {
    "execution": {
     "iopub.execute_input": "2023-07-20T23:27:01.661328Z",
     "iopub.status.busy": "2023-07-20T23:27:01.660928Z",
     "iopub.status.idle": "2023-07-20T23:27:01.673926Z",
     "shell.execute_reply": "2023-07-20T23:27:01.672514Z",
     "shell.execute_reply.started": "2023-07-20T23:27:01.661297Z"
    }
   },
   "outputs": [],
   "source": [
    "def recommend_books_to_you(df_resm, publisher, age):\n",
    " try:\n",
    "\n",
    "    age_publisher_data = df_resm[(df_resm['Age'] == age) & (df_resm['Publisher_le'] == publisher)]\n",
    "    similar_books = df_resm.copy()\n",
    "\n",
    "    book_prop = similar_books.loc[:, ['ISBN_le']]\n",
    "\n",
    "    similar_books['Similarity with books'] = cosine_similarity(book_prop, book_prop.to_numpy()[age_publisher_data.index[0], None]).squeeze()\n",
    "\n",
    "    similar_books.rename(columns={'Publisher_le': f'Similar with Publisher id {publisher}'}, inplace=True)\n",
    "    similar_books['Book-Author_le'] = le.inverse_transform(similar_books['Book-Author_le'])\n",
    "    similar_books['Book-Title_le'] = le.inverse_transform(similar_books['Book-Title_le'])\n",
    "    similar_books = similar_books.sort_values(by='Similarity with books', ascending=False)\n",
    "    similar_books = similar_books[['ISBN_le', f'Similar with Publisher id {publisher}', 'Book-Author_le', 'Age','Book-Title_le']]\n",
    "\n",
    "    similar_books.reset_index(drop=True, inplace=True)\n",
    "\n",
    "    return similar_books.iloc[1:7]\n",
    " except Exception as e:\n",
    "    print('error: ', e)\n"
   ]
  },
  {
   "cell_type": "markdown",
   "metadata": {},
   "source": [
    "top recommended Books"
   ]
  },
  {
   "cell_type": "code",
   "execution_count": 105,
   "metadata": {
    "execution": {
     "iopub.execute_input": "2023-07-20T23:27:04.184998Z",
     "iopub.status.busy": "2023-07-20T23:27:04.184590Z",
     "iopub.status.idle": "2023-07-20T23:27:04.191660Z",
     "shell.execute_reply": "2023-07-20T23:27:04.190397Z",
     "shell.execute_reply.started": "2023-07-20T23:27:04.184952Z"
    }
   },
   "outputs": [
    {
     "name": "stdout",
     "output_type": "stream",
     "text": [
      "error:  'Age'\n"
     ]
    }
   ],
   "source": [
    "recommend_books_to_you(df,370,46)"
   ]
  },
  {
   "cell_type": "markdown",
   "metadata": {},
   "source": [
    "## Colaborative Filtering\n",
    "Untuk Colaborative filtering yang akan saya gunakan adalah User-ID, Book-Title , Book-Rating, Book-Author, dan Age"
   ]
  },
  {
   "cell_type": "markdown",
   "metadata": {},
   "source": [
    "baca datasets"
   ]
  },
  {
   "cell_type": "code",
   "execution_count": 44,
   "metadata": {
    "execution": {
     "iopub.execute_input": "2023-07-20T13:09:14.202821Z",
     "iopub.status.busy": "2023-07-20T13:09:14.202416Z",
     "iopub.status.idle": "2023-07-20T13:09:17.383648Z",
     "shell.execute_reply": "2023-07-20T13:09:17.382272Z",
     "shell.execute_reply.started": "2023-07-20T13:09:14.202789Z"
    }
   },
   "outputs": [
    {
     "name": "stderr",
     "output_type": "stream",
     "text": [
      "/tmp/ipykernel_32/1619341691.py:2: DtypeWarning: Columns (3) have mixed types. Specify dtype option on import or set low_memory=False.\n",
      "  books = pd.read_csv('./Books.csv')\n"
     ]
    },
    {
     "data": {
      "text/html": [
       "<div>\n",
       "<style scoped>\n",
       "    .dataframe tbody tr th:only-of-type {\n",
       "        vertical-align: middle;\n",
       "    }\n",
       "\n",
       "    .dataframe tbody tr th {\n",
       "        vertical-align: top;\n",
       "    }\n",
       "\n",
       "    .dataframe thead th {\n",
       "        text-align: right;\n",
       "    }\n",
       "</style>\n",
       "<table border=\"1\" class=\"dataframe\">\n",
       "  <thead>\n",
       "    <tr style=\"text-align: right;\">\n",
       "      <th></th>\n",
       "      <th>ISBN</th>\n",
       "      <th>Book-Title</th>\n",
       "      <th>Book-Author</th>\n",
       "      <th>Year-Of-Publication</th>\n",
       "      <th>Publisher</th>\n",
       "      <th>Image-URL-S</th>\n",
       "      <th>Image-URL-M</th>\n",
       "      <th>Image-URL-L</th>\n",
       "    </tr>\n",
       "  </thead>\n",
       "  <tbody>\n",
       "    <tr>\n",
       "      <th>0</th>\n",
       "      <td>0195153448</td>\n",
       "      <td>Classical Mythology</td>\n",
       "      <td>Mark P. O. Morford</td>\n",
       "      <td>2002</td>\n",
       "      <td>Oxford University Press</td>\n",
       "      <td>http://images.amazon.com/images/P/0195153448.0...</td>\n",
       "      <td>http://images.amazon.com/images/P/0195153448.0...</td>\n",
       "      <td>http://images.amazon.com/images/P/0195153448.0...</td>\n",
       "    </tr>\n",
       "    <tr>\n",
       "      <th>1</th>\n",
       "      <td>0002005018</td>\n",
       "      <td>Clara Callan</td>\n",
       "      <td>Richard Bruce Wright</td>\n",
       "      <td>2001</td>\n",
       "      <td>HarperFlamingo Canada</td>\n",
       "      <td>http://images.amazon.com/images/P/0002005018.0...</td>\n",
       "      <td>http://images.amazon.com/images/P/0002005018.0...</td>\n",
       "      <td>http://images.amazon.com/images/P/0002005018.0...</td>\n",
       "    </tr>\n",
       "    <tr>\n",
       "      <th>2</th>\n",
       "      <td>0060973129</td>\n",
       "      <td>Decision in Normandy</td>\n",
       "      <td>Carlo D'Este</td>\n",
       "      <td>1991</td>\n",
       "      <td>HarperPerennial</td>\n",
       "      <td>http://images.amazon.com/images/P/0060973129.0...</td>\n",
       "      <td>http://images.amazon.com/images/P/0060973129.0...</td>\n",
       "      <td>http://images.amazon.com/images/P/0060973129.0...</td>\n",
       "    </tr>\n",
       "    <tr>\n",
       "      <th>3</th>\n",
       "      <td>0374157065</td>\n",
       "      <td>Flu: The Story of the Great Influenza Pandemic...</td>\n",
       "      <td>Gina Bari Kolata</td>\n",
       "      <td>1999</td>\n",
       "      <td>Farrar Straus Giroux</td>\n",
       "      <td>http://images.amazon.com/images/P/0374157065.0...</td>\n",
       "      <td>http://images.amazon.com/images/P/0374157065.0...</td>\n",
       "      <td>http://images.amazon.com/images/P/0374157065.0...</td>\n",
       "    </tr>\n",
       "    <tr>\n",
       "      <th>4</th>\n",
       "      <td>0393045218</td>\n",
       "      <td>The Mummies of Urumchi</td>\n",
       "      <td>E. J. W. Barber</td>\n",
       "      <td>1999</td>\n",
       "      <td>W. W. Norton &amp;amp; Company</td>\n",
       "      <td>http://images.amazon.com/images/P/0393045218.0...</td>\n",
       "      <td>http://images.amazon.com/images/P/0393045218.0...</td>\n",
       "      <td>http://images.amazon.com/images/P/0393045218.0...</td>\n",
       "    </tr>\n",
       "  </tbody>\n",
       "</table>\n",
       "</div>"
      ],
      "text/plain": [
       "         ISBN                                         Book-Title  \\\n",
       "0  0195153448                                Classical Mythology   \n",
       "1  0002005018                                       Clara Callan   \n",
       "2  0060973129                               Decision in Normandy   \n",
       "3  0374157065  Flu: The Story of the Great Influenza Pandemic...   \n",
       "4  0393045218                             The Mummies of Urumchi   \n",
       "\n",
       "            Book-Author Year-Of-Publication                   Publisher  \\\n",
       "0    Mark P. O. Morford                2002     Oxford University Press   \n",
       "1  Richard Bruce Wright                2001       HarperFlamingo Canada   \n",
       "2          Carlo D'Este                1991             HarperPerennial   \n",
       "3      Gina Bari Kolata                1999        Farrar Straus Giroux   \n",
       "4       E. J. W. Barber                1999  W. W. Norton &amp; Company   \n",
       "\n",
       "                                         Image-URL-S  \\\n",
       "0  http://images.amazon.com/images/P/0195153448.0...   \n",
       "1  http://images.amazon.com/images/P/0002005018.0...   \n",
       "2  http://images.amazon.com/images/P/0060973129.0...   \n",
       "3  http://images.amazon.com/images/P/0374157065.0...   \n",
       "4  http://images.amazon.com/images/P/0393045218.0...   \n",
       "\n",
       "                                         Image-URL-M  \\\n",
       "0  http://images.amazon.com/images/P/0195153448.0...   \n",
       "1  http://images.amazon.com/images/P/0002005018.0...   \n",
       "2  http://images.amazon.com/images/P/0060973129.0...   \n",
       "3  http://images.amazon.com/images/P/0374157065.0...   \n",
       "4  http://images.amazon.com/images/P/0393045218.0...   \n",
       "\n",
       "                                         Image-URL-L  \n",
       "0  http://images.amazon.com/images/P/0195153448.0...  \n",
       "1  http://images.amazon.com/images/P/0002005018.0...  \n",
       "2  http://images.amazon.com/images/P/0060973129.0...  \n",
       "3  http://images.amazon.com/images/P/0374157065.0...  \n",
       "4  http://images.amazon.com/images/P/0393045218.0...  "
      ]
     },
     "execution_count": 44,
     "metadata": {},
     "output_type": "execute_result"
    }
   ],
   "source": [
    "import pandas as pd\n",
    "books = pd.read_csv('./Books.csv')\n",
    "ratings = pd.read_csv('./Ratings.csv')\n",
    "users = pd.read_csv('./Users.csv')\n",
    "\n",
    "books.head()\n"
   ]
  },
  {
   "cell_type": "code",
   "execution_count": 45,
   "metadata": {
    "execution": {
     "iopub.execute_input": "2023-07-20T13:09:19.946433Z",
     "iopub.status.busy": "2023-07-20T13:09:19.946062Z",
     "iopub.status.idle": "2023-07-20T13:09:19.961504Z",
     "shell.execute_reply": "2023-07-20T13:09:19.960410Z",
     "shell.execute_reply.started": "2023-07-20T13:09:19.946403Z"
    }
   },
   "outputs": [
    {
     "data": {
      "text/html": [
       "<div>\n",
       "<style scoped>\n",
       "    .dataframe tbody tr th:only-of-type {\n",
       "        vertical-align: middle;\n",
       "    }\n",
       "\n",
       "    .dataframe tbody tr th {\n",
       "        vertical-align: top;\n",
       "    }\n",
       "\n",
       "    .dataframe thead th {\n",
       "        text-align: right;\n",
       "    }\n",
       "</style>\n",
       "<table border=\"1\" class=\"dataframe\">\n",
       "  <thead>\n",
       "    <tr style=\"text-align: right;\">\n",
       "      <th></th>\n",
       "      <th>User-ID</th>\n",
       "      <th>ISBN</th>\n",
       "      <th>Book-Rating</th>\n",
       "    </tr>\n",
       "  </thead>\n",
       "  <tbody>\n",
       "    <tr>\n",
       "      <th>0</th>\n",
       "      <td>276725</td>\n",
       "      <td>034545104X</td>\n",
       "      <td>0</td>\n",
       "    </tr>\n",
       "    <tr>\n",
       "      <th>1</th>\n",
       "      <td>276726</td>\n",
       "      <td>0155061224</td>\n",
       "      <td>5</td>\n",
       "    </tr>\n",
       "    <tr>\n",
       "      <th>2</th>\n",
       "      <td>276727</td>\n",
       "      <td>0446520802</td>\n",
       "      <td>0</td>\n",
       "    </tr>\n",
       "    <tr>\n",
       "      <th>3</th>\n",
       "      <td>276729</td>\n",
       "      <td>052165615X</td>\n",
       "      <td>3</td>\n",
       "    </tr>\n",
       "    <tr>\n",
       "      <th>4</th>\n",
       "      <td>276729</td>\n",
       "      <td>0521795028</td>\n",
       "      <td>6</td>\n",
       "    </tr>\n",
       "  </tbody>\n",
       "</table>\n",
       "</div>"
      ],
      "text/plain": [
       "   User-ID        ISBN  Book-Rating\n",
       "0   276725  034545104X            0\n",
       "1   276726  0155061224            5\n",
       "2   276727  0446520802            0\n",
       "3   276729  052165615X            3\n",
       "4   276729  0521795028            6"
      ]
     },
     "execution_count": 45,
     "metadata": {},
     "output_type": "execute_result"
    }
   ],
   "source": [
    "ratings.head()\n"
   ]
  },
  {
   "cell_type": "code",
   "execution_count": 46,
   "metadata": {
    "execution": {
     "iopub.execute_input": "2023-07-20T13:09:24.337773Z",
     "iopub.status.busy": "2023-07-20T13:09:24.337348Z",
     "iopub.status.idle": "2023-07-20T13:09:24.353669Z",
     "shell.execute_reply": "2023-07-20T13:09:24.352447Z",
     "shell.execute_reply.started": "2023-07-20T13:09:24.337740Z"
    }
   },
   "outputs": [
    {
     "data": {
      "text/html": [
       "<div>\n",
       "<style scoped>\n",
       "    .dataframe tbody tr th:only-of-type {\n",
       "        vertical-align: middle;\n",
       "    }\n",
       "\n",
       "    .dataframe tbody tr th {\n",
       "        vertical-align: top;\n",
       "    }\n",
       "\n",
       "    .dataframe thead th {\n",
       "        text-align: right;\n",
       "    }\n",
       "</style>\n",
       "<table border=\"1\" class=\"dataframe\">\n",
       "  <thead>\n",
       "    <tr style=\"text-align: right;\">\n",
       "      <th></th>\n",
       "      <th>User-ID</th>\n",
       "      <th>Location</th>\n",
       "      <th>Age</th>\n",
       "    </tr>\n",
       "  </thead>\n",
       "  <tbody>\n",
       "    <tr>\n",
       "      <th>0</th>\n",
       "      <td>1</td>\n",
       "      <td>nyc, new york, usa</td>\n",
       "      <td>NaN</td>\n",
       "    </tr>\n",
       "    <tr>\n",
       "      <th>1</th>\n",
       "      <td>2</td>\n",
       "      <td>stockton, california, usa</td>\n",
       "      <td>18.0</td>\n",
       "    </tr>\n",
       "    <tr>\n",
       "      <th>2</th>\n",
       "      <td>3</td>\n",
       "      <td>moscow, yukon territory, russia</td>\n",
       "      <td>NaN</td>\n",
       "    </tr>\n",
       "    <tr>\n",
       "      <th>3</th>\n",
       "      <td>4</td>\n",
       "      <td>porto, v.n.gaia, portugal</td>\n",
       "      <td>17.0</td>\n",
       "    </tr>\n",
       "    <tr>\n",
       "      <th>4</th>\n",
       "      <td>5</td>\n",
       "      <td>farnborough, hants, united kingdom</td>\n",
       "      <td>NaN</td>\n",
       "    </tr>\n",
       "  </tbody>\n",
       "</table>\n",
       "</div>"
      ],
      "text/plain": [
       "   User-ID                            Location   Age\n",
       "0        1                  nyc, new york, usa   NaN\n",
       "1        2           stockton, california, usa  18.0\n",
       "2        3     moscow, yukon territory, russia   NaN\n",
       "3        4           porto, v.n.gaia, portugal  17.0\n",
       "4        5  farnborough, hants, united kingdom   NaN"
      ]
     },
     "execution_count": 46,
     "metadata": {},
     "output_type": "execute_result"
    }
   ],
   "source": [
    "users.head()"
   ]
  },
  {
   "cell_type": "markdown",
   "metadata": {},
   "source": [
    "merge semua data yang diperlukan"
   ]
  },
  {
   "cell_type": "code",
   "execution_count": 63,
   "metadata": {
    "execution": {
     "iopub.execute_input": "2023-07-20T13:24:21.636708Z",
     "iopub.status.busy": "2023-07-20T13:24:21.635769Z",
     "iopub.status.idle": "2023-07-20T13:24:23.820240Z",
     "shell.execute_reply": "2023-07-20T13:24:23.818071Z",
     "shell.execute_reply.started": "2023-07-20T13:24:21.636661Z"
    }
   },
   "outputs": [
    {
     "data": {
      "text/html": [
       "<div>\n",
       "<style scoped>\n",
       "    .dataframe tbody tr th:only-of-type {\n",
       "        vertical-align: middle;\n",
       "    }\n",
       "\n",
       "    .dataframe tbody tr th {\n",
       "        vertical-align: top;\n",
       "    }\n",
       "\n",
       "    .dataframe thead th {\n",
       "        text-align: right;\n",
       "    }\n",
       "</style>\n",
       "<table border=\"1\" class=\"dataframe\">\n",
       "  <thead>\n",
       "    <tr style=\"text-align: right;\">\n",
       "      <th></th>\n",
       "      <th>ISBN</th>\n",
       "      <th>Book-Title</th>\n",
       "      <th>Book-Author</th>\n",
       "      <th>Year-Of-Publication</th>\n",
       "      <th>Publisher</th>\n",
       "      <th>Image-URL-S</th>\n",
       "      <th>Image-URL-M</th>\n",
       "      <th>Image-URL-L</th>\n",
       "      <th>User-ID</th>\n",
       "      <th>Book-Rating</th>\n",
       "      <th>Location</th>\n",
       "      <th>Age</th>\n",
       "    </tr>\n",
       "  </thead>\n",
       "  <tbody>\n",
       "    <tr>\n",
       "      <th>0</th>\n",
       "      <td>0195153448</td>\n",
       "      <td>Classical Mythology</td>\n",
       "      <td>Mark P. O. Morford</td>\n",
       "      <td>2002</td>\n",
       "      <td>Oxford University Press</td>\n",
       "      <td>http://images.amazon.com/images/P/0195153448.0...</td>\n",
       "      <td>http://images.amazon.com/images/P/0195153448.0...</td>\n",
       "      <td>http://images.amazon.com/images/P/0195153448.0...</td>\n",
       "      <td>2.0</td>\n",
       "      <td>0.0</td>\n",
       "      <td>stockton, california, usa</td>\n",
       "      <td>18.0</td>\n",
       "    </tr>\n",
       "    <tr>\n",
       "      <th>1</th>\n",
       "      <td>0002005018</td>\n",
       "      <td>Clara Callan</td>\n",
       "      <td>Richard Bruce Wright</td>\n",
       "      <td>2001</td>\n",
       "      <td>HarperFlamingo Canada</td>\n",
       "      <td>http://images.amazon.com/images/P/0002005018.0...</td>\n",
       "      <td>http://images.amazon.com/images/P/0002005018.0...</td>\n",
       "      <td>http://images.amazon.com/images/P/0002005018.0...</td>\n",
       "      <td>8.0</td>\n",
       "      <td>5.0</td>\n",
       "      <td>timmins, ontario, canada</td>\n",
       "      <td>NaN</td>\n",
       "    </tr>\n",
       "    <tr>\n",
       "      <th>2</th>\n",
       "      <td>0002005018</td>\n",
       "      <td>Clara Callan</td>\n",
       "      <td>Richard Bruce Wright</td>\n",
       "      <td>2001</td>\n",
       "      <td>HarperFlamingo Canada</td>\n",
       "      <td>http://images.amazon.com/images/P/0002005018.0...</td>\n",
       "      <td>http://images.amazon.com/images/P/0002005018.0...</td>\n",
       "      <td>http://images.amazon.com/images/P/0002005018.0...</td>\n",
       "      <td>11400.0</td>\n",
       "      <td>0.0</td>\n",
       "      <td>ottawa, ontario, canada</td>\n",
       "      <td>49.0</td>\n",
       "    </tr>\n",
       "    <tr>\n",
       "      <th>3</th>\n",
       "      <td>0002005018</td>\n",
       "      <td>Clara Callan</td>\n",
       "      <td>Richard Bruce Wright</td>\n",
       "      <td>2001</td>\n",
       "      <td>HarperFlamingo Canada</td>\n",
       "      <td>http://images.amazon.com/images/P/0002005018.0...</td>\n",
       "      <td>http://images.amazon.com/images/P/0002005018.0...</td>\n",
       "      <td>http://images.amazon.com/images/P/0002005018.0...</td>\n",
       "      <td>11676.0</td>\n",
       "      <td>8.0</td>\n",
       "      <td>n/a, n/a, n/a</td>\n",
       "      <td>NaN</td>\n",
       "    </tr>\n",
       "    <tr>\n",
       "      <th>4</th>\n",
       "      <td>0002005018</td>\n",
       "      <td>Clara Callan</td>\n",
       "      <td>Richard Bruce Wright</td>\n",
       "      <td>2001</td>\n",
       "      <td>HarperFlamingo Canada</td>\n",
       "      <td>http://images.amazon.com/images/P/0002005018.0...</td>\n",
       "      <td>http://images.amazon.com/images/P/0002005018.0...</td>\n",
       "      <td>http://images.amazon.com/images/P/0002005018.0...</td>\n",
       "      <td>41385.0</td>\n",
       "      <td>0.0</td>\n",
       "      <td>sudbury, ontario, canada</td>\n",
       "      <td>NaN</td>\n",
       "    </tr>\n",
       "  </tbody>\n",
       "</table>\n",
       "</div>"
      ],
      "text/plain": [
       "         ISBN           Book-Title           Book-Author Year-Of-Publication  \\\n",
       "0  0195153448  Classical Mythology    Mark P. O. Morford                2002   \n",
       "1  0002005018         Clara Callan  Richard Bruce Wright                2001   \n",
       "2  0002005018         Clara Callan  Richard Bruce Wright                2001   \n",
       "3  0002005018         Clara Callan  Richard Bruce Wright                2001   \n",
       "4  0002005018         Clara Callan  Richard Bruce Wright                2001   \n",
       "\n",
       "                 Publisher                                        Image-URL-S  \\\n",
       "0  Oxford University Press  http://images.amazon.com/images/P/0195153448.0...   \n",
       "1    HarperFlamingo Canada  http://images.amazon.com/images/P/0002005018.0...   \n",
       "2    HarperFlamingo Canada  http://images.amazon.com/images/P/0002005018.0...   \n",
       "3    HarperFlamingo Canada  http://images.amazon.com/images/P/0002005018.0...   \n",
       "4    HarperFlamingo Canada  http://images.amazon.com/images/P/0002005018.0...   \n",
       "\n",
       "                                         Image-URL-M  \\\n",
       "0  http://images.amazon.com/images/P/0195153448.0...   \n",
       "1  http://images.amazon.com/images/P/0002005018.0...   \n",
       "2  http://images.amazon.com/images/P/0002005018.0...   \n",
       "3  http://images.amazon.com/images/P/0002005018.0...   \n",
       "4  http://images.amazon.com/images/P/0002005018.0...   \n",
       "\n",
       "                                         Image-URL-L  User-ID  Book-Rating  \\\n",
       "0  http://images.amazon.com/images/P/0195153448.0...      2.0          0.0   \n",
       "1  http://images.amazon.com/images/P/0002005018.0...      8.0          5.0   \n",
       "2  http://images.amazon.com/images/P/0002005018.0...  11400.0          0.0   \n",
       "3  http://images.amazon.com/images/P/0002005018.0...  11676.0          8.0   \n",
       "4  http://images.amazon.com/images/P/0002005018.0...  41385.0          0.0   \n",
       "\n",
       "                    Location   Age  \n",
       "0  stockton, california, usa  18.0  \n",
       "1   timmins, ontario, canada   NaN  \n",
       "2    ottawa, ontario, canada  49.0  \n",
       "3              n/a, n/a, n/a   NaN  \n",
       "4   sudbury, ontario, canada   NaN  "
      ]
     },
     "execution_count": 63,
     "metadata": {},
     "output_type": "execute_result"
    }
   ],
   "source": [
    "df = pd.merge(books, ratings, on='ISBN', how='left')\n",
    "\n",
    "df = pd.merge(df, users, on='User-ID', how='left')\n",
    "df.head()"
   ]
  },
  {
   "cell_type": "markdown",
   "metadata": {},
   "source": [
    "handling null value"
   ]
  },
  {
   "cell_type": "code",
   "execution_count": 64,
   "metadata": {
    "execution": {
     "iopub.execute_input": "2023-07-20T13:24:26.166631Z",
     "iopub.status.busy": "2023-07-20T13:24:26.166139Z",
     "iopub.status.idle": "2023-07-20T13:24:29.513799Z",
     "shell.execute_reply": "2023-07-20T13:24:29.512266Z",
     "shell.execute_reply.started": "2023-07-20T13:24:26.166594Z"
    }
   },
   "outputs": [
    {
     "data": {
      "text/plain": [
       "ISBN                        0\n",
       "Book-Title                  0\n",
       "Book-Author                 1\n",
       "Year-Of-Publication         0\n",
       "Publisher                   2\n",
       "Image-URL-S                 0\n",
       "Image-URL-M                 0\n",
       "Image-URL-L                 4\n",
       "User-ID                  1209\n",
       "Book-Rating              1209\n",
       "Location                 1209\n",
       "Age                    279044\n",
       "dtype: int64"
      ]
     },
     "execution_count": 64,
     "metadata": {},
     "output_type": "execute_result"
    }
   ],
   "source": [
    "df.isnull().sum()"
   ]
  },
  {
   "cell_type": "code",
   "execution_count": 66,
   "metadata": {
    "execution": {
     "iopub.execute_input": "2023-07-20T13:24:33.535947Z",
     "iopub.status.busy": "2023-07-20T13:24:33.535135Z",
     "iopub.status.idle": "2023-07-20T13:24:36.105833Z",
     "shell.execute_reply": "2023-07-20T13:24:36.104253Z",
     "shell.execute_reply.started": "2023-07-20T13:24:33.535899Z"
    }
   },
   "outputs": [],
   "source": [
    "df = df.dropna()\n"
   ]
  },
  {
   "cell_type": "code",
   "execution_count": 67,
   "metadata": {
    "execution": {
     "iopub.execute_input": "2023-07-20T13:24:36.108714Z",
     "iopub.status.busy": "2023-07-20T13:24:36.108221Z",
     "iopub.status.idle": "2023-07-20T13:24:38.512226Z",
     "shell.execute_reply": "2023-07-20T13:24:38.510495Z",
     "shell.execute_reply.started": "2023-07-20T13:24:36.108677Z"
    }
   },
   "outputs": [
    {
     "data": {
      "text/plain": [
       "ISBN                   0\n",
       "Book-Title             0\n",
       "Book-Author            0\n",
       "Year-Of-Publication    0\n",
       "Publisher              0\n",
       "Image-URL-S            0\n",
       "Image-URL-M            0\n",
       "Image-URL-L            0\n",
       "User-ID                0\n",
       "Book-Rating            0\n",
       "Location               0\n",
       "Age                    0\n",
       "dtype: int64"
      ]
     },
     "execution_count": 67,
     "metadata": {},
     "output_type": "execute_result"
    }
   ],
   "source": [
    "df.isnull().sum()"
   ]
  },
  {
   "cell_type": "markdown",
   "metadata": {},
   "source": [
    "ambil 100.000 sample"
   ]
  },
  {
   "cell_type": "code",
   "execution_count": 68,
   "metadata": {
    "execution": {
     "iopub.execute_input": "2023-07-20T13:24:38.515525Z",
     "iopub.status.busy": "2023-07-20T13:24:38.515047Z",
     "iopub.status.idle": "2023-07-20T13:24:38.726587Z",
     "shell.execute_reply": "2023-07-20T13:24:38.725042Z",
     "shell.execute_reply.started": "2023-07-20T13:24:38.515482Z"
    }
   },
   "outputs": [],
   "source": [
    "df = df.sample(n=100000)"
   ]
  },
  {
   "cell_type": "code",
   "execution_count": 69,
   "metadata": {
    "execution": {
     "iopub.execute_input": "2023-07-20T13:24:38.729489Z",
     "iopub.status.busy": "2023-07-20T13:24:38.729055Z",
     "iopub.status.idle": "2023-07-20T13:24:38.763299Z",
     "shell.execute_reply": "2023-07-20T13:24:38.761340Z",
     "shell.execute_reply.started": "2023-07-20T13:24:38.729455Z"
    }
   },
   "outputs": [],
   "source": [
    "df = df.reset_index(drop=True)"
   ]
  },
  {
   "cell_type": "markdown",
   "metadata": {},
   "source": [
    "pilih column yang diperlukan"
   ]
  },
  {
   "cell_type": "code",
   "execution_count": 71,
   "metadata": {
    "execution": {
     "iopub.execute_input": "2023-07-20T13:25:11.222633Z",
     "iopub.status.busy": "2023-07-20T13:25:11.221305Z",
     "iopub.status.idle": "2023-07-20T13:25:11.239584Z",
     "shell.execute_reply": "2023-07-20T13:25:11.237705Z",
     "shell.execute_reply.started": "2023-07-20T13:25:11.222574Z"
    }
   },
   "outputs": [],
   "source": [
    "df = df[['Book-Rating', 'User-ID', 'Book-Title']]"
   ]
  },
  {
   "cell_type": "code",
   "execution_count": 72,
   "metadata": {
    "execution": {
     "iopub.execute_input": "2023-07-20T13:25:14.186926Z",
     "iopub.status.busy": "2023-07-20T13:25:14.186262Z",
     "iopub.status.idle": "2023-07-20T13:25:14.211047Z",
     "shell.execute_reply": "2023-07-20T13:25:14.209157Z",
     "shell.execute_reply.started": "2023-07-20T13:25:14.186888Z"
    }
   },
   "outputs": [
    {
     "data": {
      "text/html": [
       "<div>\n",
       "<style scoped>\n",
       "    .dataframe tbody tr th:only-of-type {\n",
       "        vertical-align: middle;\n",
       "    }\n",
       "\n",
       "    .dataframe tbody tr th {\n",
       "        vertical-align: top;\n",
       "    }\n",
       "\n",
       "    .dataframe thead th {\n",
       "        text-align: right;\n",
       "    }\n",
       "</style>\n",
       "<table border=\"1\" class=\"dataframe\">\n",
       "  <thead>\n",
       "    <tr style=\"text-align: right;\">\n",
       "      <th></th>\n",
       "      <th>Book-Rating</th>\n",
       "      <th>User-ID</th>\n",
       "      <th>Book-Title</th>\n",
       "    </tr>\n",
       "  </thead>\n",
       "  <tbody>\n",
       "    <tr>\n",
       "      <th>0</th>\n",
       "      <td>6.0</td>\n",
       "      <td>170077.0</td>\n",
       "      <td>What Looks Like Crazy On An Ordinary Day</td>\n",
       "    </tr>\n",
       "    <tr>\n",
       "      <th>1</th>\n",
       "      <td>0.0</td>\n",
       "      <td>33974.0</td>\n",
       "      <td>You Can Do It!: Balloon Animals</td>\n",
       "    </tr>\n",
       "    <tr>\n",
       "      <th>2</th>\n",
       "      <td>5.0</td>\n",
       "      <td>121170.0</td>\n",
       "      <td>Slightly Single (Red Dress Ink (Paperback))</td>\n",
       "    </tr>\n",
       "    <tr>\n",
       "      <th>3</th>\n",
       "      <td>0.0</td>\n",
       "      <td>46909.0</td>\n",
       "      <td>Find Me</td>\n",
       "    </tr>\n",
       "    <tr>\n",
       "      <th>4</th>\n",
       "      <td>8.0</td>\n",
       "      <td>128696.0</td>\n",
       "      <td>9-11</td>\n",
       "    </tr>\n",
       "    <tr>\n",
       "      <th>...</th>\n",
       "      <td>...</td>\n",
       "      <td>...</td>\n",
       "      <td>...</td>\n",
       "    </tr>\n",
       "    <tr>\n",
       "      <th>99995</th>\n",
       "      <td>7.0</td>\n",
       "      <td>170947.0</td>\n",
       "      <td>The Runaway Heart &amp;amp; a Promise of the Valle...</td>\n",
       "    </tr>\n",
       "    <tr>\n",
       "      <th>99996</th>\n",
       "      <td>7.0</td>\n",
       "      <td>210485.0</td>\n",
       "      <td>Crisis on Doona</td>\n",
       "    </tr>\n",
       "    <tr>\n",
       "      <th>99997</th>\n",
       "      <td>0.0</td>\n",
       "      <td>113292.0</td>\n",
       "      <td>FIRST CITIZEN</td>\n",
       "    </tr>\n",
       "    <tr>\n",
       "      <th>99998</th>\n",
       "      <td>9.0</td>\n",
       "      <td>69389.0</td>\n",
       "      <td>Split Second (Maggie O'Dell Novels (Paperback))</td>\n",
       "    </tr>\n",
       "    <tr>\n",
       "      <th>99999</th>\n",
       "      <td>3.0</td>\n",
       "      <td>57599.0</td>\n",
       "      <td>She's Come Undone (Oprah's Book Club (Paperback))</td>\n",
       "    </tr>\n",
       "  </tbody>\n",
       "</table>\n",
       "<p>100000 rows × 3 columns</p>\n",
       "</div>"
      ],
      "text/plain": [
       "       Book-Rating   User-ID  \\\n",
       "0              6.0  170077.0   \n",
       "1              0.0   33974.0   \n",
       "2              5.0  121170.0   \n",
       "3              0.0   46909.0   \n",
       "4              8.0  128696.0   \n",
       "...            ...       ...   \n",
       "99995          7.0  170947.0   \n",
       "99996          7.0  210485.0   \n",
       "99997          0.0  113292.0   \n",
       "99998          9.0   69389.0   \n",
       "99999          3.0   57599.0   \n",
       "\n",
       "                                              Book-Title  \n",
       "0               What Looks Like Crazy On An Ordinary Day  \n",
       "1                        You Can Do It!: Balloon Animals  \n",
       "2            Slightly Single (Red Dress Ink (Paperback))  \n",
       "3                                                Find Me  \n",
       "4                                                   9-11  \n",
       "...                                                  ...  \n",
       "99995  The Runaway Heart &amp; a Promise of the Valle...  \n",
       "99996                                    Crisis on Doona  \n",
       "99997                                      FIRST CITIZEN  \n",
       "99998    Split Second (Maggie O'Dell Novels (Paperback))  \n",
       "99999  She's Come Undone (Oprah's Book Club (Paperback))  \n",
       "\n",
       "[100000 rows x 3 columns]"
      ]
     },
     "execution_count": 72,
     "metadata": {},
     "output_type": "execute_result"
    }
   ],
   "source": [
    "df"
   ]
  },
  {
   "cell_type": "markdown",
   "metadata": {},
   "source": [
    "Encode fitur User-ID dan Book-Title "
   ]
  },
  {
   "cell_type": "code",
   "execution_count": 73,
   "metadata": {
    "execution": {
     "iopub.execute_input": "2023-07-20T13:26:51.602820Z",
     "iopub.status.busy": "2023-07-20T13:26:51.602368Z",
     "iopub.status.idle": "2023-07-20T13:26:51.676409Z",
     "shell.execute_reply": "2023-07-20T13:26:51.673905Z",
     "shell.execute_reply.started": "2023-07-20T13:26:51.602788Z"
    }
   },
   "outputs": [],
   "source": [
    "user_ids = df['User-ID'].unique().tolist()\n",
    "book_ids = df['Book-Title'].unique().tolist()"
   ]
  },
  {
   "cell_type": "markdown",
   "metadata": {},
   "source": [
    "Menyandikan (encode) fitur ‘User-ID’ dan ‘Book-Title’ ke dalam indeks integer.\n",
    "\n",
    "Memetakan ‘User-ID’ dan ‘Book-Title’ ke dataframe yang berkaitan.\n",
    "\n",
    "Mengecek beberapa hal dalam data seperti jumlah user, jumlah buku, kemudian mengubah Book-Rating menjadi float."
   ]
  },
  {
   "cell_type": "code",
   "execution_count": 74,
   "metadata": {
    "execution": {
     "iopub.execute_input": "2023-07-20T13:31:19.155820Z",
     "iopub.status.busy": "2023-07-20T13:31:19.155358Z",
     "iopub.status.idle": "2023-07-20T13:31:19.303331Z",
     "shell.execute_reply": "2023-07-20T13:31:19.302229Z",
     "shell.execute_reply.started": "2023-07-20T13:31:19.155786Z"
    }
   },
   "outputs": [
    {
     "name": "stdout",
     "output_type": "stream",
     "text": [
      "18813\n",
      "54887\n"
     ]
    },
    {
     "name": "stderr",
     "output_type": "stream",
     "text": [
      "/tmp/ipykernel_32/2543824063.py:14: SettingWithCopyWarning: \n",
      "A value is trying to be set on a copy of a slice from a DataFrame.\n",
      "Try using .loc[row_indexer,col_indexer] = value instead\n",
      "\n",
      "See the caveats in the documentation: https://pandas.pydata.org/pandas-docs/stable/user_guide/indexing.html#returning-a-view-versus-a-copy\n",
      "  df['User-ID'] = df['User-ID'].map(user_to_user_encoded)\n",
      "/tmp/ipykernel_32/2543824063.py:17: SettingWithCopyWarning: \n",
      "A value is trying to be set on a copy of a slice from a DataFrame.\n",
      "Try using .loc[row_indexer,col_indexer] = value instead\n",
      "\n",
      "See the caveats in the documentation: https://pandas.pydata.org/pandas-docs/stable/user_guide/indexing.html#returning-a-view-versus-a-copy\n",
      "  df['Book-Title'] = df['Book-Title'].map(book_to_book_encoded)\n",
      "/tmp/ipykernel_32/2543824063.py:20: SettingWithCopyWarning: \n",
      "A value is trying to be set on a copy of a slice from a DataFrame.\n",
      "Try using .loc[row_indexer,col_indexer] = value instead\n",
      "\n",
      "See the caveats in the documentation: https://pandas.pydata.org/pandas-docs/stable/user_guide/indexing.html#returning-a-view-versus-a-copy\n",
      "  df['Book-Rating'] = df['Book-Rating'].values.astype(np.float32)\n"
     ]
    }
   ],
   "source": [
    "# Melakukan encoding msno\n",
    "user_to_user_encoded = {x: i for i, x in enumerate(user_ids)}\n",
    " \n",
    "# Melakukan proses encoding angka ke ke msno\n",
    "user_encoded_to_user = {i: x for i, x in enumerate(user_ids)}\n",
    "\n",
    "# Melakukan proses encoding song\n",
    "book_to_book_encoded = {x: i for i, x in enumerate(book_ids)}\n",
    " \n",
    "# Melakukan proses encoding angka ke song\n",
    "book_encoded_to_book = {i: x for i, x in enumerate(book_ids)}\n",
    "\n",
    "# Mapping user ke dataframe user\n",
    "df['User-ID'] = df['User-ID'].map(user_to_user_encoded)\n",
    " \n",
    "# Mapping song ke dataframe song\n",
    "df['Book-Title'] = df['Book-Title'].map(book_to_book_encoded)\n",
    "\n",
    "# Mengubah target menjadi nilai float\n",
    "df['Book-Rating'] = df['Book-Rating'].values.astype(np.float32)\n",
    "\n",
    "# Mendapatkan jumlah user\n",
    "num_users = len(user_to_user_encoded)\n",
    "print(num_users)\n",
    " \n",
    "# Mendapatkan jumlah book\n",
    "num_book = len(book_encoded_to_book)\n",
    "print(num_book)"
   ]
  },
  {
   "cell_type": "code",
   "execution_count": 92,
   "metadata": {
    "execution": {
     "iopub.execute_input": "2023-07-20T15:24:15.850569Z",
     "iopub.status.busy": "2023-07-20T15:24:15.850075Z",
     "iopub.status.idle": "2023-07-20T15:24:15.885382Z",
     "shell.execute_reply": "2023-07-20T15:24:15.884194Z",
     "shell.execute_reply.started": "2023-07-20T15:24:15.850532Z"
    }
   },
   "outputs": [
    {
     "data": {
      "text/html": [
       "<div>\n",
       "<style scoped>\n",
       "    .dataframe tbody tr th:only-of-type {\n",
       "        vertical-align: middle;\n",
       "    }\n",
       "\n",
       "    .dataframe tbody tr th {\n",
       "        vertical-align: top;\n",
       "    }\n",
       "\n",
       "    .dataframe thead th {\n",
       "        text-align: right;\n",
       "    }\n",
       "</style>\n",
       "<table border=\"1\" class=\"dataframe\">\n",
       "  <thead>\n",
       "    <tr style=\"text-align: right;\">\n",
       "      <th></th>\n",
       "      <th>Book-Rating</th>\n",
       "      <th>User-ID</th>\n",
       "      <th>Book-Title</th>\n",
       "    </tr>\n",
       "  </thead>\n",
       "  <tbody>\n",
       "    <tr>\n",
       "      <th>48298</th>\n",
       "      <td>7.0</td>\n",
       "      <td>4581</td>\n",
       "      <td>31371</td>\n",
       "    </tr>\n",
       "    <tr>\n",
       "      <th>81047</th>\n",
       "      <td>0.0</td>\n",
       "      <td>2651</td>\n",
       "      <td>46872</td>\n",
       "    </tr>\n",
       "    <tr>\n",
       "      <th>92754</th>\n",
       "      <td>0.0</td>\n",
       "      <td>2594</td>\n",
       "      <td>33701</td>\n",
       "    </tr>\n",
       "    <tr>\n",
       "      <th>46007</th>\n",
       "      <td>10.0</td>\n",
       "      <td>3347</td>\n",
       "      <td>10315</td>\n",
       "    </tr>\n",
       "    <tr>\n",
       "      <th>76981</th>\n",
       "      <td>0.0</td>\n",
       "      <td>1293</td>\n",
       "      <td>9363</td>\n",
       "    </tr>\n",
       "    <tr>\n",
       "      <th>...</th>\n",
       "      <td>...</td>\n",
       "      <td>...</td>\n",
       "      <td>...</td>\n",
       "    </tr>\n",
       "    <tr>\n",
       "      <th>93878</th>\n",
       "      <td>0.0</td>\n",
       "      <td>2002</td>\n",
       "      <td>4951</td>\n",
       "    </tr>\n",
       "    <tr>\n",
       "      <th>99783</th>\n",
       "      <td>0.0</td>\n",
       "      <td>2017</td>\n",
       "      <td>54798</td>\n",
       "    </tr>\n",
       "    <tr>\n",
       "      <th>57399</th>\n",
       "      <td>9.0</td>\n",
       "      <td>822</td>\n",
       "      <td>36015</td>\n",
       "    </tr>\n",
       "    <tr>\n",
       "      <th>97106</th>\n",
       "      <td>0.0</td>\n",
       "      <td>348</td>\n",
       "      <td>12411</td>\n",
       "    </tr>\n",
       "    <tr>\n",
       "      <th>478</th>\n",
       "      <td>9.0</td>\n",
       "      <td>429</td>\n",
       "      <td>476</td>\n",
       "    </tr>\n",
       "  </tbody>\n",
       "</table>\n",
       "<p>100000 rows × 3 columns</p>\n",
       "</div>"
      ],
      "text/plain": [
       "       Book-Rating  User-ID  Book-Title\n",
       "48298          7.0     4581       31371\n",
       "81047          0.0     2651       46872\n",
       "92754          0.0     2594       33701\n",
       "46007         10.0     3347       10315\n",
       "76981          0.0     1293        9363\n",
       "...            ...      ...         ...\n",
       "93878          0.0     2002        4951\n",
       "99783          0.0     2017       54798\n",
       "57399          9.0      822       36015\n",
       "97106          0.0      348       12411\n",
       "478            9.0      429         476\n",
       "\n",
       "[100000 rows x 3 columns]"
      ]
     },
     "execution_count": 92,
     "metadata": {},
     "output_type": "execute_result"
    }
   ],
   "source": [
    "# Mengacak Datasets\n",
    "df = df.sample(frac=1, random_state=42)\n",
    "df"
   ]
  },
  {
   "cell_type": "markdown",
   "metadata": {},
   "source": [
    "Split dengan rasio 8:2\n",
    "\n",
    "80.000 data train\n",
    "\n",
    "20.000 data val"
   ]
  },
  {
   "cell_type": "code",
   "execution_count": 76,
   "metadata": {
    "execution": {
     "iopub.execute_input": "2023-07-20T13:38:26.703563Z",
     "iopub.status.busy": "2023-07-20T13:38:26.703054Z",
     "iopub.status.idle": "2023-07-20T13:38:26.715621Z",
     "shell.execute_reply": "2023-07-20T13:38:26.714121Z",
     "shell.execute_reply.started": "2023-07-20T13:38:26.703526Z"
    }
   },
   "outputs": [],
   "source": [
    "# Membuat variabel x untuk mencocokkan data user dan book menjadi satu value\n",
    "x = df[['User-ID', 'Book-Title']].values\n",
    " \n",
    "# Membuat variabel y untuk membuat rating dari hasil \n",
    "y = df['Book-Rating']\n",
    " \n",
    "# Membagi menjadi 80% data train dan 20% data validasi\n",
    "train_indices = int(0.8 * df.shape[0])\n",
    "x_train, x_val, y_train, y_val = (\n",
    "    x[:train_indices],\n",
    "    x[train_indices:],\n",
    "    y[:train_indices],\n",
    "    y[train_indices:]\n",
    ")"
   ]
  },
  {
   "cell_type": "markdown",
   "metadata": {},
   "source": [
    "Membuat Recommender Net berikut example nya\n",
    "\n",
    "https://keras.io/examples/structured_data/collaborative_filtering_movielens/"
   ]
  },
  {
   "cell_type": "code",
   "execution_count": 89,
   "metadata": {
    "execution": {
     "iopub.execute_input": "2023-07-20T13:46:16.144837Z",
     "iopub.status.busy": "2023-07-20T13:46:16.144364Z",
     "iopub.status.idle": "2023-07-20T13:46:16.157289Z",
     "shell.execute_reply": "2023-07-20T13:46:16.156348Z",
     "shell.execute_reply.started": "2023-07-20T13:46:16.144804Z"
    }
   },
   "outputs": [],
   "source": [
    "import tensorflow as tf\n",
    "from tensorflow import keras\n",
    "from tensorflow.keras import layers\n",
    "\n",
    "class RecommenderNet(tf.keras.Model):\n",
    " \n",
    "  # Insialisasi fungsi\n",
    "  def __init__(self, num_users, num_book, embedding_size, **kwargs):\n",
    "    super(RecommenderNet, self).__init__(**kwargs)\n",
    "    self.num_users = num_users\n",
    "    self.num_book = num_book\n",
    "    self.embedding_size = embedding_size\n",
    "    self.user_embedding = layers.Embedding( # layer embedding user\n",
    "        num_users,\n",
    "        embedding_size,\n",
    "        embeddings_initializer = 'he_normal',\n",
    "        embeddings_regularizer = keras.regularizers.l2(1e-6)\n",
    "    )\n",
    "    self.user_bias = layers.Embedding(num_users, 1) # layer embedding user bias\n",
    "    self.book_embedding = layers.Embedding( # layer embeddings resto\n",
    "        num_book,\n",
    "        embedding_size,\n",
    "        embeddings_initializer = 'he_normal',\n",
    "        embeddings_regularizer = keras.regularizers.l2(1e-6)\n",
    "    )\n",
    "    self.book_bias = layers.Embedding(num_book, 1) # layer embedding book bias\n",
    " \n",
    "  def call(self, inputs):\n",
    "    user_vector = self.user_embedding(inputs[:,0]) # memanggil layer embedding 1\n",
    "    user_bias = self.user_bias(inputs[:, 0]) # memanggil layer embedding 2\n",
    "    book_vector = self.book_embedding(inputs[:, 1]) # memanggil layer embedding 3\n",
    "    book_bias = self.book_bias(inputs[:, 1]) # memanggil layer embedding 4\n",
    " \n",
    "    dot_user_book = tf.tensordot(user_vector, book_vector, 2) \n",
    " \n",
    "    x = dot_user_book + user_bias + book_bias\n",
    "    \n",
    "    return tf.nn.sigmoid(x) # activation sigmoid"
   ]
  },
  {
   "cell_type": "markdown",
   "metadata": {},
   "source": [
    "Compile model dengan loss RMSE"
   ]
  },
  {
   "cell_type": "code",
   "execution_count": null,
   "metadata": {
    "execution": {
     "iopub.status.busy": "2023-07-20T15:24:10.060155Z",
     "iopub.status.idle": "2023-07-20T15:24:10.060746Z",
     "shell.execute_reply": "2023-07-20T15:24:10.060576Z",
     "shell.execute_reply.started": "2023-07-20T15:24:10.060556Z"
    }
   },
   "outputs": [],
   "source": [
    "model = RecommenderNet(num_users, num_book, 50) # inisialisasi model\n",
    " \n",
    "# model compile\n",
    "model.compile(\n",
    "    loss = tf.keras.losses.BinaryCrossentropy(),\n",
    "    optimizer = keras.optimizers.Adam(learning_rate=0.001),\n",
    "    metrics=[tf.keras.metrics.RootMeanSquaredError()]\n",
    ")"
   ]
  },
  {
   "cell_type": "code",
   "execution_count": 93,
   "metadata": {
    "execution": {
     "iopub.execute_input": "2023-07-20T15:24:21.564290Z",
     "iopub.status.busy": "2023-07-20T15:24:21.563870Z",
     "iopub.status.idle": "2023-07-20T22:47:46.499077Z",
     "shell.execute_reply": "2023-07-20T22:47:46.495865Z",
     "shell.execute_reply.started": "2023-07-20T15:24:21.564257Z"
    }
   },
   "outputs": [
    {
     "name": "stdout",
     "output_type": "stream",
     "text": [
      "Epoch 1/100\n",
      "10000/10000 [==============================] - 263s 26ms/step - loss: -4052.2625 - root_mean_squared_error: 4.2492 - val_loss: -2145.7007 - val_root_mean_squared_error: 4.2167\n",
      "Epoch 2/100\n",
      "10000/10000 [==============================] - 265s 26ms/step - loss: -4433.8931 - root_mean_squared_error: 4.2492 - val_loss: -2360.5173 - val_root_mean_squared_error: 4.2166\n",
      "Epoch 3/100\n",
      "10000/10000 [==============================] - 266s 27ms/step - loss: -4902.5957 - root_mean_squared_error: 4.2492 - val_loss: -2583.6792 - val_root_mean_squared_error: 4.2166\n",
      "Epoch 4/100\n",
      "10000/10000 [==============================] - 266s 27ms/step - loss: -5313.8672 - root_mean_squared_error: 4.2492 - val_loss: -2816.4961 - val_root_mean_squared_error: 4.2165\n",
      "Epoch 5/100\n",
      "10000/10000 [==============================] - 258s 26ms/step - loss: -5764.7012 - root_mean_squared_error: 4.2492 - val_loss: -3059.7671 - val_root_mean_squared_error: 4.2166\n",
      "Epoch 6/100\n",
      "10000/10000 [==============================] - 265s 26ms/step - loss: -6213.5376 - root_mean_squared_error: 4.2492 - val_loss: -3315.2400 - val_root_mean_squared_error: 4.2164\n",
      "Epoch 7/100\n",
      "10000/10000 [==============================] - 266s 27ms/step - loss: -6723.3569 - root_mean_squared_error: 4.2492 - val_loss: -3581.6721 - val_root_mean_squared_error: 4.2165\n",
      "Epoch 8/100\n",
      "10000/10000 [==============================] - 275s 27ms/step - loss: -7273.5176 - root_mean_squared_error: 4.2492 - val_loss: -3857.8379 - val_root_mean_squared_error: 4.2165\n",
      "Epoch 9/100\n",
      "10000/10000 [==============================] - 267s 27ms/step - loss: -7844.7407 - root_mean_squared_error: 4.2492 - val_loss: -4147.0845 - val_root_mean_squared_error: 4.2164\n",
      "Epoch 10/100\n",
      "10000/10000 [==============================] - 258s 26ms/step - loss: -8339.7510 - root_mean_squared_error: 4.2492 - val_loss: -4444.8228 - val_root_mean_squared_error: 4.2164\n",
      "Epoch 11/100\n",
      "10000/10000 [==============================] - 266s 27ms/step - loss: -8943.8604 - root_mean_squared_error: 4.2492 - val_loss: -4754.5542 - val_root_mean_squared_error: 4.2164\n",
      "Epoch 12/100\n",
      "10000/10000 [==============================] - 271s 27ms/step - loss: -9506.4307 - root_mean_squared_error: 4.2492 - val_loss: -5075.0215 - val_root_mean_squared_error: 4.2165\n",
      "Epoch 13/100\n",
      "10000/10000 [==============================] - 287s 29ms/step - loss: -10071.8408 - root_mean_squared_error: 4.2492 - val_loss: -5409.2114 - val_root_mean_squared_error: 4.2165\n",
      "Epoch 14/100\n",
      "10000/10000 [==============================] - 274s 27ms/step - loss: -10791.5234 - root_mean_squared_error: 4.2492 - val_loss: -5753.5781 - val_root_mean_squared_error: 4.2165\n",
      "Epoch 15/100\n",
      "10000/10000 [==============================] - 268s 27ms/step - loss: -11506.7822 - root_mean_squared_error: 4.2492 - val_loss: -6107.7974 - val_root_mean_squared_error: 4.2164\n",
      "Epoch 16/100\n",
      "10000/10000 [==============================] - 262s 26ms/step - loss: -12259.5342 - root_mean_squared_error: 4.2492 - val_loss: -6472.9878 - val_root_mean_squared_error: 4.2164\n",
      "Epoch 17/100\n",
      "10000/10000 [==============================] - 287s 29ms/step - loss: -12783.6318 - root_mean_squared_error: 4.2492 - val_loss: -6850.1704 - val_root_mean_squared_error: 4.2164\n",
      "Epoch 18/100\n",
      "10000/10000 [==============================] - 270s 27ms/step - loss: -13538.6836 - root_mean_squared_error: 4.2492 - val_loss: -7240.6367 - val_root_mean_squared_error: 4.2164\n",
      "Epoch 19/100\n",
      "10000/10000 [==============================] - 298s 30ms/step - loss: -14258.9395 - root_mean_squared_error: 4.2492 - val_loss: -7637.4785 - val_root_mean_squared_error: 4.2163\n",
      "Epoch 20/100\n",
      "10000/10000 [==============================] - 272s 27ms/step - loss: -15024.0605 - root_mean_squared_error: 4.2492 - val_loss: -8044.3271 - val_root_mean_squared_error: 4.2163\n",
      "Epoch 21/100\n",
      "10000/10000 [==============================] - 272s 27ms/step - loss: -15861.2588 - root_mean_squared_error: 4.2492 - val_loss: -8464.8428 - val_root_mean_squared_error: 4.2163\n",
      "Epoch 22/100\n",
      "10000/10000 [==============================] - 276s 28ms/step - loss: -16505.6309 - root_mean_squared_error: 4.2492 - val_loss: -8893.1221 - val_root_mean_squared_error: 4.2163\n",
      "Epoch 23/100\n",
      "10000/10000 [==============================] - 272s 27ms/step - loss: -17281.0039 - root_mean_squared_error: 4.2492 - val_loss: -9334.1943 - val_root_mean_squared_error: 4.2163\n",
      "Epoch 24/100\n",
      "10000/10000 [==============================] - 265s 27ms/step - loss: -18174.0137 - root_mean_squared_error: 4.2492 - val_loss: -9788.2783 - val_root_mean_squared_error: 4.2163\n",
      "Epoch 25/100\n",
      "10000/10000 [==============================] - 270s 27ms/step - loss: -19022.1270 - root_mean_squared_error: 4.2492 - val_loss: -10252.9922 - val_root_mean_squared_error: 4.2165\n",
      "Epoch 26/100\n",
      "10000/10000 [==============================] - 272s 27ms/step - loss: -20055.0391 - root_mean_squared_error: 4.2492 - val_loss: -10724.8408 - val_root_mean_squared_error: 4.2164\n",
      "Epoch 27/100\n",
      "10000/10000 [==============================] - 270s 27ms/step - loss: -20693.1484 - root_mean_squared_error: 4.2492 - val_loss: -11208.5557 - val_root_mean_squared_error: 4.2163\n",
      "Epoch 28/100\n",
      "10000/10000 [==============================] - 280s 28ms/step - loss: -21737.5605 - root_mean_squared_error: 4.2492 - val_loss: -11706.8301 - val_root_mean_squared_error: 4.2163\n",
      "Epoch 29/100\n",
      "10000/10000 [==============================] - 274s 27ms/step - loss: -22753.9922 - root_mean_squared_error: 4.2492 - val_loss: -12209.3555 - val_root_mean_squared_error: 4.2163\n",
      "Epoch 30/100\n",
      "10000/10000 [==============================] - 257s 26ms/step - loss: -23675.8105 - root_mean_squared_error: 4.2492 - val_loss: -12729.0947 - val_root_mean_squared_error: 4.2163\n",
      "Epoch 31/100\n",
      "10000/10000 [==============================] - 246s 25ms/step - loss: -24541.1289 - root_mean_squared_error: 4.2492 - val_loss: -13258.6084 - val_root_mean_squared_error: 4.2163\n",
      "Epoch 32/100\n",
      "10000/10000 [==============================] - 250s 25ms/step - loss: -25560.1621 - root_mean_squared_error: 4.2492 - val_loss: -13797.7793 - val_root_mean_squared_error: 4.2164\n",
      "Epoch 33/100\n",
      "10000/10000 [==============================] - 254s 25ms/step - loss: -26834.5742 - root_mean_squared_error: 4.2492 - val_loss: -14358.9717 - val_root_mean_squared_error: 4.2163\n",
      "Epoch 34/100\n",
      "10000/10000 [==============================] - 267s 27ms/step - loss: -27722.6152 - root_mean_squared_error: 4.2492 - val_loss: -14920.0752 - val_root_mean_squared_error: 4.2163\n",
      "Epoch 35/100\n",
      "10000/10000 [==============================] - 268s 27ms/step - loss: -28612.7227 - root_mean_squared_error: 4.2492 - val_loss: -15488.9824 - val_root_mean_squared_error: 4.2163\n",
      "Epoch 36/100\n",
      "10000/10000 [==============================] - 261s 26ms/step - loss: -29937.4941 - root_mean_squared_error: 4.2492 - val_loss: -16074.4932 - val_root_mean_squared_error: 4.2163\n",
      "Epoch 37/100\n",
      "10000/10000 [==============================] - 264s 26ms/step - loss: -31103.9805 - root_mean_squared_error: 4.2492 - val_loss: -16670.9473 - val_root_mean_squared_error: 4.2163\n",
      "Epoch 38/100\n",
      "10000/10000 [==============================] - 314s 31ms/step - loss: -31989.5332 - root_mean_squared_error: 4.2492 - val_loss: -17286.9121 - val_root_mean_squared_error: 4.2163\n",
      "Epoch 39/100\n",
      "10000/10000 [==============================] - 302s 30ms/step - loss: -33084.9336 - root_mean_squared_error: 4.2492 - val_loss: -17906.1562 - val_root_mean_squared_error: 4.2163\n",
      "Epoch 40/100\n",
      "10000/10000 [==============================] - 262s 26ms/step - loss: -34230.9766 - root_mean_squared_error: 4.2492 - val_loss: -18541.4902 - val_root_mean_squared_error: 4.2163\n",
      "Epoch 41/100\n",
      "10000/10000 [==============================] - 258s 26ms/step - loss: -35482.5078 - root_mean_squared_error: 4.2492 - val_loss: -19180.2441 - val_root_mean_squared_error: 4.2161\n",
      "Epoch 42/100\n",
      "10000/10000 [==============================] - 264s 26ms/step - loss: -36635.0195 - root_mean_squared_error: 4.2492 - val_loss: -19836.0742 - val_root_mean_squared_error: 4.2161\n",
      "Epoch 43/100\n",
      "10000/10000 [==============================] - 279s 28ms/step - loss: -37869.5156 - root_mean_squared_error: 4.2492 - val_loss: -20500.3223 - val_root_mean_squared_error: 4.2161\n",
      "Epoch 44/100\n",
      "10000/10000 [==============================] - 277s 28ms/step - loss: -39031.1211 - root_mean_squared_error: 4.2492 - val_loss: -21175.5449 - val_root_mean_squared_error: 4.2161\n",
      "Epoch 45/100\n",
      "10000/10000 [==============================] - 275s 28ms/step - loss: -40397.4453 - root_mean_squared_error: 4.2492 - val_loss: -21866.0820 - val_root_mean_squared_error: 4.2161\n",
      "Epoch 46/100\n",
      "10000/10000 [==============================] - 269s 27ms/step - loss: -41474.3984 - root_mean_squared_error: 4.2492 - val_loss: -22571.1035 - val_root_mean_squared_error: 4.2162\n",
      "Epoch 47/100\n",
      "10000/10000 [==============================] - 275s 28ms/step - loss: -42810.7227 - root_mean_squared_error: 4.2492 - val_loss: -23275.4258 - val_root_mean_squared_error: 4.2161\n",
      "Epoch 48/100\n",
      "10000/10000 [==============================] - 268s 27ms/step - loss: -45524.2031 - root_mean_squared_error: 4.2492 - val_loss: -24733.3086 - val_root_mean_squared_error: 4.2161\n",
      "Epoch 50/100\n",
      "10000/10000 [==============================] - 266s 27ms/step - loss: -46932.2500 - root_mean_squared_error: 4.2492 - val_loss: -25475.4258 - val_root_mean_squared_error: 4.2161\n",
      "Epoch 51/100\n",
      "10000/10000 [==============================] - 281s 28ms/step - loss: -48453.8438 - root_mean_squared_error: 4.2492 - val_loss: -26224.8770 - val_root_mean_squared_error: 4.2162\n",
      "Epoch 52/100\n",
      "10000/10000 [==============================] - 265s 27ms/step - loss: -49516.0078 - root_mean_squared_error: 4.2492 - val_loss: -26987.0312 - val_root_mean_squared_error: 4.2161\n",
      "Epoch 53/100\n",
      "10000/10000 [==============================] - 274s 27ms/step - loss: -51175.3203 - root_mean_squared_error: 4.2492 - val_loss: -27766.6855 - val_root_mean_squared_error: 4.2161\n",
      "Epoch 54/100\n",
      "10000/10000 [==============================] - 275s 28ms/step - loss: -52242.7695 - root_mean_squared_error: 4.2492 - val_loss: -28556.6504 - val_root_mean_squared_error: 4.2161\n",
      "Epoch 55/100\n",
      "10000/10000 [==============================] - 266s 27ms/step - loss: -54269.4023 - root_mean_squared_error: 4.2492 - val_loss: -29364.0703 - val_root_mean_squared_error: 4.2161\n",
      "Epoch 56/100\n",
      "10000/10000 [==============================] - 252s 25ms/step - loss: -55469.6367 - root_mean_squared_error: 4.2492 - val_loss: -30178.9434 - val_root_mean_squared_error: 4.2161\n",
      "Epoch 57/100\n",
      "10000/10000 [==============================] - 245s 25ms/step - loss: -57070.0781 - root_mean_squared_error: 4.2492 - val_loss: -31002.8965 - val_root_mean_squared_error: 4.2161\n",
      "Epoch 58/100\n",
      "10000/10000 [==============================] - 252s 25ms/step - loss: -58076.9844 - root_mean_squared_error: 4.2492 - val_loss: -31840.1348 - val_root_mean_squared_error: 4.2161\n",
      "Epoch 59/100\n",
      "10000/10000 [==============================] - 241s 24ms/step - loss: -60206.3086 - root_mean_squared_error: 4.2492 - val_loss: -32688.2559 - val_root_mean_squared_error: 4.2162\n",
      "Epoch 60/100\n",
      "10000/10000 [==============================] - 246s 25ms/step - loss: -61330.9297 - root_mean_squared_error: 4.2492 - val_loss: -33535.6641 - val_root_mean_squared_error: 4.2162\n",
      "Epoch 61/100\n",
      "10000/10000 [==============================] - 260s 26ms/step - loss: -63459.1172 - root_mean_squared_error: 4.2492 - val_loss: -34407.0820 - val_root_mean_squared_error: 4.2162\n",
      "Epoch 62/100\n",
      "10000/10000 [==============================] - 270s 27ms/step - loss: -64512.3438 - root_mean_squared_error: 4.2492 - val_loss: -35298.5547 - val_root_mean_squared_error: 4.2162\n",
      "Epoch 63/100\n",
      "10000/10000 [==============================] - 260s 26ms/step - loss: -66615.6797 - root_mean_squared_error: 4.2492 - val_loss: -36205.2812 - val_root_mean_squared_error: 4.2162\n",
      "Epoch 64/100\n",
      "10000/10000 [==============================] - 267s 27ms/step - loss: -67715.8047 - root_mean_squared_error: 4.2492 - val_loss: -37105.6172 - val_root_mean_squared_error: 4.2162\n",
      "Epoch 65/100\n",
      "10000/10000 [==============================] - 269s 27ms/step - loss: -69677.8516 - root_mean_squared_error: 4.2492 - val_loss: -38026.7227 - val_root_mean_squared_error: 4.2162\n",
      "Epoch 66/100\n",
      "10000/10000 [==============================] - 259s 26ms/step - loss: -71039.4609 - root_mean_squared_error: 4.2492 - val_loss: -38961.8867 - val_root_mean_squared_error: 4.2162\n",
      "Epoch 67/100\n",
      "10000/10000 [==============================] - 259s 26ms/step - loss: -72656.1250 - root_mean_squared_error: 4.2492 - val_loss: -39915.9023 - val_root_mean_squared_error: 4.2162\n",
      "Epoch 68/100\n",
      "10000/10000 [==============================] - 255s 25ms/step - loss: -74684.4531 - root_mean_squared_error: 4.2492 - val_loss: -40865.6562 - val_root_mean_squared_error: 4.2161\n",
      "Epoch 69/100\n",
      "10000/10000 [==============================] - 252s 25ms/step - loss: -76052.8516 - root_mean_squared_error: 4.2492 - val_loss: -41827.2695 - val_root_mean_squared_error: 4.2161\n",
      "Epoch 70/100\n",
      "10000/10000 [==============================] - 262s 26ms/step - loss: -78313.7109 - root_mean_squared_error: 4.2492 - val_loss: -42807.3867 - val_root_mean_squared_error: 4.2161\n",
      "Epoch 71/100\n",
      "10000/10000 [==============================] - 255s 26ms/step - loss: -79330.2734 - root_mean_squared_error: 4.2492 - val_loss: -43781.1758 - val_root_mean_squared_error: 4.2162\n",
      "Epoch 72/100\n",
      "10000/10000 [==============================] - 264s 26ms/step - loss: -81415.3359 - root_mean_squared_error: 4.2492 - val_loss: -44783.8242 - val_root_mean_squared_error: 4.2161\n",
      "Epoch 73/100\n",
      "10000/10000 [==============================] - 258s 26ms/step - loss: -83505.0547 - root_mean_squared_error: 4.2492 - val_loss: -45794.2383 - val_root_mean_squared_error: 4.2162\n",
      "Epoch 74/100\n",
      "10000/10000 [==============================] - 263s 26ms/step - loss: -84837.3828 - root_mean_squared_error: 4.2492 - val_loss: -46820.0898 - val_root_mean_squared_error: 4.2161\n",
      "Epoch 75/100\n",
      "10000/10000 [==============================] - 254s 25ms/step - loss: -87393.9844 - root_mean_squared_error: 4.2492 - val_loss: -47860.0352 - val_root_mean_squared_error: 4.2161\n",
      "Epoch 76/100\n",
      "10000/10000 [==============================] - 257s 26ms/step - loss: -88605.3047 - root_mean_squared_error: 4.2492 - val_loss: -48914.8203 - val_root_mean_squared_error: 4.2161\n",
      "Epoch 77/100\n",
      "10000/10000 [==============================] - 262s 26ms/step - loss: -90550.1562 - root_mean_squared_error: 4.2492 - val_loss: -49974.5117 - val_root_mean_squared_error: 4.2161\n",
      "Epoch 78/100\n",
      "10000/10000 [==============================] - 257s 26ms/step - loss: -92879.8438 - root_mean_squared_error: 4.2492 - val_loss: -51043.8828 - val_root_mean_squared_error: 4.2163\n",
      "Epoch 79/100\n",
      "10000/10000 [==============================] - 263s 26ms/step - loss: -94306.7578 - root_mean_squared_error: 4.2492 - val_loss: -52125.1562 - val_root_mean_squared_error: 4.2162\n",
      "Epoch 80/100\n",
      "10000/10000 [==============================] - 276s 28ms/step - loss: -96282.3906 - root_mean_squared_error: 4.2492 - val_loss: -53226.8477 - val_root_mean_squared_error: 4.2162\n",
      "Epoch 81/100\n",
      "10000/10000 [==============================] - 261s 26ms/step - loss: -98298.9531 - root_mean_squared_error: 4.2492 - val_loss: -54338.4961 - val_root_mean_squared_error: 4.2162\n",
      "Epoch 82/100\n",
      "10000/10000 [==============================] - 267s 27ms/step - loss: -100916.7578 - root_mean_squared_error: 4.2492 - val_loss: -55461.0000 - val_root_mean_squared_error: 4.2162\n",
      "Epoch 83/100\n",
      "10000/10000 [==============================] - 270s 27ms/step - loss: -102366.9766 - root_mean_squared_error: 4.2492 - val_loss: -56593.2344 - val_root_mean_squared_error: 4.2162\n",
      "Epoch 84/100\n",
      "10000/10000 [==============================] - 277s 28ms/step - loss: -104288.8203 - root_mean_squared_error: 4.2492 - val_loss: -57725.8359 - val_root_mean_squared_error: 4.2162\n",
      "Epoch 85/100\n",
      "10000/10000 [==============================] - 252s 25ms/step - loss: -106851.7031 - root_mean_squared_error: 4.2492 - val_loss: -58880.8711 - val_root_mean_squared_error: 4.2162\n",
      "Epoch 86/100\n",
      "10000/10000 [==============================] - 252s 25ms/step - loss: -108803.6875 - root_mean_squared_error: 4.2492 - val_loss: -60044.3320 - val_root_mean_squared_error: 4.2162\n",
      "Epoch 87/100\n",
      "10000/10000 [==============================] - 268s 27ms/step - loss: -110004.8359 - root_mean_squared_error: 4.2492 - val_loss: -61228.9336 - val_root_mean_squared_error: 4.2162\n",
      "Epoch 88/100\n",
      "10000/10000 [==============================] - 258s 26ms/step - loss: -113030.5312 - root_mean_squared_error: 4.2492 - val_loss: -62431.4609 - val_root_mean_squared_error: 4.2162\n",
      "Epoch 89/100\n",
      "10000/10000 [==============================] - 279s 28ms/step - loss: -114531.8672 - root_mean_squared_error: 4.2492 - val_loss: -63628.8633 - val_root_mean_squared_error: 4.2162\n",
      "Epoch 90/100\n",
      "10000/10000 [==============================] - 261s 26ms/step - loss: -116854.7422 - root_mean_squared_error: 4.2492 - val_loss: -64841.3750 - val_root_mean_squared_error: 4.2162\n",
      "Epoch 91/100\n",
      "10000/10000 [==============================] - 258s 26ms/step - loss: -119357.0938 - root_mean_squared_error: 4.2492 - val_loss: -66069.3906 - val_root_mean_squared_error: 4.2163\n",
      "Epoch 92/100\n",
      "10000/10000 [==============================] - 273s 27ms/step - loss: -121355.1328 - root_mean_squared_error: 4.2492 - val_loss: -67281.5234 - val_root_mean_squared_error: 4.2163\n",
      "Epoch 93/100\n",
      "10000/10000 [==============================] - 265s 26ms/step - loss: -123572.5312 - root_mean_squared_error: 4.2492 - val_loss: -68519.7422 - val_root_mean_squared_error: 4.2162\n",
      "Epoch 94/100\n",
      "10000/10000 [==============================] - 272s 27ms/step - loss: -125144.8203 - root_mean_squared_error: 4.2492 - val_loss: -69797.7188 - val_root_mean_squared_error: 4.2162\n",
      "Epoch 95/100\n",
      "10000/10000 [==============================] - 250s 25ms/step - loss: -128535.3750 - root_mean_squared_error: 4.2492 - val_loss: -71080.0781 - val_root_mean_squared_error: 4.2162\n",
      "Epoch 96/100\n",
      "10000/10000 [==============================] - 277s 28ms/step - loss: -130933.1562 - root_mean_squared_error: 4.2492 - val_loss: -72360.5703 - val_root_mean_squared_error: 4.2162\n",
      "Epoch 97/100\n",
      "10000/10000 [==============================] - 257s 26ms/step - loss: -132482.7812 - root_mean_squared_error: 4.2492 - val_loss: -73658.2891 - val_root_mean_squared_error: 4.2162\n",
      "Epoch 98/100\n",
      "10000/10000 [==============================] - 258s 26ms/step - loss: -135704.4531 - root_mean_squared_error: 4.2492 - val_loss: -74953.0156 - val_root_mean_squared_error: 4.2162\n",
      "Epoch 99/100\n",
      "10000/10000 [==============================] - 258s 26ms/step - loss: -137984.1406 - root_mean_squared_error: 4.2492 - val_loss: -76265.1328 - val_root_mean_squared_error: 4.2162\n",
      "Epoch 100/100\n",
      "10000/10000 [==============================] - 265s 27ms/step - loss: -139757.0156 - root_mean_squared_error: 4.2492 - val_loss: -77607.9141 - val_root_mean_squared_error: 4.2162\n"
     ]
    }
   ],
   "source": [
    "# Memulai training\n",
    " \n",
    "history = model.fit(\n",
    "    x = x_train,\n",
    "    y = y_train,\n",
    "    batch_size = 8,\n",
    "    epochs = 100,\n",
    "    validation_data = (x_val, y_val)\n",
    ")"
   ]
  },
  {
   "cell_type": "markdown",
   "metadata": {},
   "source": [
    "## Evaluation\n",
    "Menyebutkan metrik evaluasi yang digunakan. RMSE\n",
    "\n",
    "Menjelaskan hasil proyek berdasarkan metrik evaluasi.\n",
    "\n",
    "Menjelaskan metrik evaluasi yang digunakan untuk mengukur kinerja model (formula dan cara metrik tersebut bekerja).\n",
    "\n",
    "rmse = $\\sqrt{\\sum\\nolimits_{n=1}^n \\left((y_i - ŷ_i) ^ 2 \\over n \\right) }$\n",
    " \n",
    "\n",
    "Visualisasi Metrix untuk Melihat error dalam bentuk grafik"
   ]
  },
  {
   "cell_type": "code",
   "execution_count": 109,
   "metadata": {
    "execution": {
     "iopub.execute_input": "2023-07-20T23:28:58.636132Z",
     "iopub.status.busy": "2023-07-20T23:28:58.634836Z",
     "iopub.status.idle": "2023-07-20T23:28:58.966112Z",
     "shell.execute_reply": "2023-07-20T23:28:58.964936Z",
     "shell.execute_reply.started": "2023-07-20T23:28:58.636088Z"
    }
   },
   "outputs": [
    {
     "data": {
      "image/png": "[encoded data removed]",
      "text/plain": [
       "<Figure size 640x480 with 1 Axes>"
      ]
     },
     "metadata": {},
     "output_type": "display_data"
    }
   ],
   "source": [
    "import matplotlib.pyplot as plt\n",
    "\n",
    "plt.plot(history.history['root_mean_squared_error'])\n",
    "plt.plot(history.history['val_root_mean_squared_error'])\n",
    "plt.title('model_metrics')\n",
    "plt.ylabel('root_mean_squared_error')\n",
    "plt.xlabel('epoch')\n",
    "plt.legend(['train', 'test'], loc='upper left')\n",
    "plt.show()"
   ]
  },
  {
   "cell_type": "code",
   "execution_count": 240,
   "metadata": {
    "execution": {
     "iopub.execute_input": "2023-07-21T00:32:52.824623Z",
     "iopub.status.busy": "2023-07-21T00:32:52.823935Z",
     "iopub.status.idle": "2023-07-21T00:32:56.736940Z",
     "shell.execute_reply": "2023-07-21T00:32:56.735729Z",
     "shell.execute_reply.started": "2023-07-21T00:32:52.824566Z"
    }
   },
   "outputs": [
    {
     "name": "stderr",
     "output_type": "stream",
     "text": [
      "/tmp/ipykernel_32/3661365508.py:1: DtypeWarning: Columns (3) have mixed types. Specify dtype option on import or set low_memory=False.\n",
      "  books = pd.read_csv('./Books.csv')\n"
     ]
    },
    {
     "data": {
      "text/html": [
       "<div>\n",
       "<style scoped>\n",
       "    .dataframe tbody tr th:only-of-type {\n",
       "        vertical-align: middle;\n",
       "    }\n",
       "\n",
       "    .dataframe tbody tr th {\n",
       "        vertical-align: top;\n",
       "    }\n",
       "\n",
       "    .dataframe thead th {\n",
       "        text-align: right;\n",
       "    }\n",
       "</style>\n",
       "<table border=\"1\" class=\"dataframe\">\n",
       "  <thead>\n",
       "    <tr style=\"text-align: right;\">\n",
       "      <th></th>\n",
       "      <th>Book-Rating</th>\n",
       "      <th>User-ID</th>\n",
       "      <th>Book-Title</th>\n",
       "    </tr>\n",
       "  </thead>\n",
       "  <tbody>\n",
       "    <tr>\n",
       "      <th>0</th>\n",
       "      <td>0.0</td>\n",
       "      <td>2.0</td>\n",
       "      <td>Classical Mythology</td>\n",
       "    </tr>\n",
       "    <tr>\n",
       "      <th>1</th>\n",
       "      <td>5.0</td>\n",
       "      <td>8.0</td>\n",
       "      <td>Clara Callan</td>\n",
       "    </tr>\n",
       "    <tr>\n",
       "      <th>2</th>\n",
       "      <td>0.0</td>\n",
       "      <td>11400.0</td>\n",
       "      <td>Clara Callan</td>\n",
       "    </tr>\n",
       "    <tr>\n",
       "      <th>3</th>\n",
       "      <td>8.0</td>\n",
       "      <td>11676.0</td>\n",
       "      <td>Clara Callan</td>\n",
       "    </tr>\n",
       "    <tr>\n",
       "      <th>4</th>\n",
       "      <td>0.0</td>\n",
       "      <td>41385.0</td>\n",
       "      <td>Clara Callan</td>\n",
       "    </tr>\n",
       "  </tbody>\n",
       "</table>\n",
       "</div>"
      ],
      "text/plain": [
       "   Book-Rating  User-ID           Book-Title\n",
       "0          0.0      2.0  Classical Mythology\n",
       "1          5.0      8.0         Clara Callan\n",
       "2          0.0  11400.0         Clara Callan\n",
       "3          8.0  11676.0         Clara Callan\n",
       "4          0.0  41385.0         Clara Callan"
      ]
     },
     "execution_count": 240,
     "metadata": {},
     "output_type": "execute_result"
    }
   ],
   "source": [
    "books = pd.read_csv('./Books.csv')\n",
    "ratings = pd.read_csv('./Ratings.csv')\n",
    "df_test =pd.merge(books, ratings, on='ISBN', how='left')\n",
    "df_test = df_test[['Book-Rating','User-ID', 'Book-Title']]\n",
    "df_test.head()"
   ]
  },
  {
   "cell_type": "code",
   "execution_count": 241,
   "metadata": {
    "execution": {
     "iopub.execute_input": "2023-07-21T00:33:00.304456Z",
     "iopub.status.busy": "2023-07-21T00:33:00.304028Z",
     "iopub.status.idle": "2023-07-21T00:33:00.365214Z",
     "shell.execute_reply": "2023-07-21T00:33:00.364242Z",
     "shell.execute_reply.started": "2023-07-21T00:33:00.304422Z"
    }
   },
   "outputs": [
    {
     "data": {
      "text/html": [
       "<div>\n",
       "<style scoped>\n",
       "    .dataframe tbody tr th:only-of-type {\n",
       "        vertical-align: middle;\n",
       "    }\n",
       "\n",
       "    .dataframe tbody tr th {\n",
       "        vertical-align: top;\n",
       "    }\n",
       "\n",
       "    .dataframe thead th {\n",
       "        text-align: right;\n",
       "    }\n",
       "</style>\n",
       "<table border=\"1\" class=\"dataframe\">\n",
       "  <thead>\n",
       "    <tr style=\"text-align: right;\">\n",
       "      <th></th>\n",
       "      <th>Book-Rating</th>\n",
       "      <th>User-ID</th>\n",
       "      <th>Book-Title</th>\n",
       "    </tr>\n",
       "  </thead>\n",
       "  <tbody>\n",
       "    <tr>\n",
       "      <th>6211</th>\n",
       "      <td>0.0</td>\n",
       "      <td>252848.0</td>\n",
       "      <td>Breathing Lessons</td>\n",
       "    </tr>\n",
       "    <tr>\n",
       "      <th>10541</th>\n",
       "      <td>0.0</td>\n",
       "      <td>252848.0</td>\n",
       "      <td>If Love Were Oil, I'd Be About a Quart Low</td>\n",
       "    </tr>\n",
       "    <tr>\n",
       "      <th>11762</th>\n",
       "      <td>0.0</td>\n",
       "      <td>252848.0</td>\n",
       "      <td>Slow Waltz in Cedar Bend</td>\n",
       "    </tr>\n",
       "    <tr>\n",
       "      <th>19827</th>\n",
       "      <td>0.0</td>\n",
       "      <td>252848.0</td>\n",
       "      <td>October Sky: A Memoir</td>\n",
       "    </tr>\n",
       "    <tr>\n",
       "      <th>20432</th>\n",
       "      <td>0.0</td>\n",
       "      <td>252848.0</td>\n",
       "      <td>A Painted House</td>\n",
       "    </tr>\n",
       "    <tr>\n",
       "      <th>...</th>\n",
       "      <td>...</td>\n",
       "      <td>...</td>\n",
       "      <td>...</td>\n",
       "    </tr>\n",
       "    <tr>\n",
       "      <th>971279</th>\n",
       "      <td>0.0</td>\n",
       "      <td>252848.0</td>\n",
       "      <td>The Big Book of Show Business Awards</td>\n",
       "    </tr>\n",
       "    <tr>\n",
       "      <th>971282</th>\n",
       "      <td>0.0</td>\n",
       "      <td>252848.0</td>\n",
       "      <td>The 5-Day Miracle Diet: Conquer Food Cravings,...</td>\n",
       "    </tr>\n",
       "    <tr>\n",
       "      <th>971287</th>\n",
       "      <td>0.0</td>\n",
       "      <td>252848.0</td>\n",
       "      <td>Doctor Who: Ultimate Foe</td>\n",
       "    </tr>\n",
       "    <tr>\n",
       "      <th>971290</th>\n",
       "      <td>0.0</td>\n",
       "      <td>252848.0</td>\n",
       "      <td>Greece: Temples, Tombs, &amp;amp; Treasures (Lost ...</td>\n",
       "    </tr>\n",
       "    <tr>\n",
       "      <th>1030696</th>\n",
       "      <td>0.0</td>\n",
       "      <td>252848.0</td>\n",
       "      <td>Pursuit of Bliss: 1913 To 1919 (Honest Women)</td>\n",
       "    </tr>\n",
       "  </tbody>\n",
       "</table>\n",
       "<p>421 rows × 3 columns</p>\n",
       "</div>"
      ],
      "text/plain": [
       "         Book-Rating   User-ID  \\\n",
       "6211             0.0  252848.0   \n",
       "10541            0.0  252848.0   \n",
       "11762            0.0  252848.0   \n",
       "19827            0.0  252848.0   \n",
       "20432            0.0  252848.0   \n",
       "...              ...       ...   \n",
       "971279           0.0  252848.0   \n",
       "971282           0.0  252848.0   \n",
       "971287           0.0  252848.0   \n",
       "971290           0.0  252848.0   \n",
       "1030696          0.0  252848.0   \n",
       "\n",
       "                                                Book-Title  \n",
       "6211                                     Breathing Lessons  \n",
       "10541           If Love Were Oil, I'd Be About a Quart Low  \n",
       "11762                             Slow Waltz in Cedar Bend  \n",
       "19827                                October Sky: A Memoir  \n",
       "20432                                      A Painted House  \n",
       "...                                                    ...  \n",
       "971279                The Big Book of Show Business Awards  \n",
       "971282   The 5-Day Miracle Diet: Conquer Food Cravings,...  \n",
       "971287                            Doctor Who: Ultimate Foe  \n",
       "971290   Greece: Temples, Tombs, &amp; Treasures (Lost ...  \n",
       "1030696      Pursuit of Bliss: 1913 To 1919 (Honest Women)  \n",
       "\n",
       "[421 rows x 3 columns]"
      ]
     },
     "execution_count": 241,
     "metadata": {},
     "output_type": "execute_result"
    }
   ],
   "source": [
    "user_id = df_test['User-ID'].sample(1).iloc[0]\n",
    "book_read_by_user = df_test[df_test['User-ID'] == user_id]\n",
    "\n",
    "book_read_by_user"
   ]
  },
  {
   "cell_type": "code",
   "execution_count": 242,
   "metadata": {
    "execution": {
     "iopub.execute_input": "2023-07-21T00:33:02.883692Z",
     "iopub.status.busy": "2023-07-21T00:33:02.883019Z",
     "iopub.status.idle": "2023-07-21T00:33:08.482257Z",
     "shell.execute_reply": "2023-07-21T00:33:08.480927Z",
     "shell.execute_reply.started": "2023-07-21T00:33:02.883627Z"
    }
   },
   "outputs": [
    {
     "name": "stderr",
     "output_type": "stream",
     "text": [
      "/tmp/ipykernel_32/2170549860.py:2: DtypeWarning: Columns (3) have mixed types. Specify dtype option on import or set low_memory=False.\n",
      "  test_books = pd.read_csv('./Books.csv')\n"
     ]
    },
    {
     "data": {
      "text/plain": [
       "Book-Rating    89\n",
       "ISBN            0\n",
       "User-ID        89\n",
       "Book-Title      0\n",
       "dtype: int64"
      ]
     },
     "execution_count": 242,
     "metadata": {},
     "output_type": "execute_result"
    }
   ],
   "source": [
    "import pandas as pd\n",
    "test_books = pd.read_csv('./Books.csv')\n",
    "test_ratings = pd.read_csv('./Ratings.csv')\n",
    "test_users = pd.read_csv('./Users.csv')\n",
    "\n",
    "df = pd.merge(test_books, test_ratings, on='ISBN', how='left')\n",
    "\n",
    "df = pd.merge(df, test_users, on='User-ID', how='left')\n",
    "df.head()\n",
    "df = df.sample(n=100000)\n",
    "df = df.reset_index(drop=True)\n",
    "df = df[['Book-Rating', 'ISBN', 'User-ID', 'Book-Title']]\n",
    "df.isnull().sum()"
   ]
  },
  {
   "cell_type": "code",
   "execution_count": 243,
   "metadata": {
    "execution": {
     "iopub.execute_input": "2023-07-21T00:33:08.485428Z",
     "iopub.status.busy": "2023-07-21T00:33:08.484924Z",
     "iopub.status.idle": "2023-07-21T00:33:08.492327Z",
     "shell.execute_reply": "2023-07-21T00:33:08.491065Z",
     "shell.execute_reply.started": "2023-07-21T00:33:08.485383Z"
    }
   },
   "outputs": [],
   "source": [
    "book_df = df"
   ]
  },
  {
   "cell_type": "code",
   "execution_count": 244,
   "metadata": {
    "execution": {
     "iopub.execute_input": "2023-07-21T00:33:10.480907Z",
     "iopub.status.busy": "2023-07-21T00:33:10.480521Z",
     "iopub.status.idle": "2023-07-21T00:33:10.500805Z",
     "shell.execute_reply": "2023-07-21T00:33:10.499494Z",
     "shell.execute_reply.started": "2023-07-21T00:33:10.480877Z"
    }
   },
   "outputs": [
    {
     "data": {
      "text/html": [
       "<div>\n",
       "<style scoped>\n",
       "    .dataframe tbody tr th:only-of-type {\n",
       "        vertical-align: middle;\n",
       "    }\n",
       "\n",
       "    .dataframe tbody tr th {\n",
       "        vertical-align: top;\n",
       "    }\n",
       "\n",
       "    .dataframe thead th {\n",
       "        text-align: right;\n",
       "    }\n",
       "</style>\n",
       "<table border=\"1\" class=\"dataframe\">\n",
       "  <thead>\n",
       "    <tr style=\"text-align: right;\">\n",
       "      <th></th>\n",
       "      <th>Book-Rating</th>\n",
       "      <th>ISBN</th>\n",
       "      <th>User-ID</th>\n",
       "      <th>Book-Title</th>\n",
       "    </tr>\n",
       "  </thead>\n",
       "  <tbody>\n",
       "    <tr>\n",
       "      <th>0</th>\n",
       "      <td>0.0</td>\n",
       "      <td>0425151875</td>\n",
       "      <td>126492.0</td>\n",
       "      <td>Tom Clancy's Op-Center: Games of State (Tom Cl...</td>\n",
       "    </tr>\n",
       "    <tr>\n",
       "      <th>1</th>\n",
       "      <td>0.0</td>\n",
       "      <td>0373118155</td>\n",
       "      <td>274308.0</td>\n",
       "      <td>Mischief And Marriage (Top Author) (Harlequin ...</td>\n",
       "    </tr>\n",
       "    <tr>\n",
       "      <th>2</th>\n",
       "      <td>0.0</td>\n",
       "      <td>0743456254</td>\n",
       "      <td>28591.0</td>\n",
       "      <td>A Loving Scoundrel (Lindsey, Johanna)</td>\n",
       "    </tr>\n",
       "    <tr>\n",
       "      <th>3</th>\n",
       "      <td>8.0</td>\n",
       "      <td>0345404912</td>\n",
       "      <td>129074.0</td>\n",
       "      <td>The Last Full Measure</td>\n",
       "    </tr>\n",
       "    <tr>\n",
       "      <th>4</th>\n",
       "      <td>0.0</td>\n",
       "      <td>0843951400</td>\n",
       "      <td>271245.0</td>\n",
       "      <td>Against All Enemies</td>\n",
       "    </tr>\n",
       "    <tr>\n",
       "      <th>...</th>\n",
       "      <td>...</td>\n",
       "      <td>...</td>\n",
       "      <td>...</td>\n",
       "      <td>...</td>\n",
       "    </tr>\n",
       "    <tr>\n",
       "      <th>99995</th>\n",
       "      <td>0.0</td>\n",
       "      <td>0142003190</td>\n",
       "      <td>41086.0</td>\n",
       "      <td>A Noble Radiance</td>\n",
       "    </tr>\n",
       "    <tr>\n",
       "      <th>99996</th>\n",
       "      <td>0.0</td>\n",
       "      <td>1576731278</td>\n",
       "      <td>16777.0</td>\n",
       "      <td>Stories for the Heart: The Original Collection</td>\n",
       "    </tr>\n",
       "    <tr>\n",
       "      <th>99997</th>\n",
       "      <td>0.0</td>\n",
       "      <td>0446341231</td>\n",
       "      <td>35809.0</td>\n",
       "      <td>Mountain Guns</td>\n",
       "    </tr>\n",
       "    <tr>\n",
       "      <th>99998</th>\n",
       "      <td>0.0</td>\n",
       "      <td>0590442341</td>\n",
       "      <td>126736.0</td>\n",
       "      <td>Jessi's Secret Language (Baby-Sitters Club (Pa...</td>\n",
       "    </tr>\n",
       "    <tr>\n",
       "      <th>99999</th>\n",
       "      <td>0.0</td>\n",
       "      <td>0671007637</td>\n",
       "      <td>219546.0</td>\n",
       "      <td>Runaways (Orphans)</td>\n",
       "    </tr>\n",
       "  </tbody>\n",
       "</table>\n",
       "<p>100000 rows × 4 columns</p>\n",
       "</div>"
      ],
      "text/plain": [
       "       Book-Rating        ISBN   User-ID  \\\n",
       "0              0.0  0425151875  126492.0   \n",
       "1              0.0  0373118155  274308.0   \n",
       "2              0.0  0743456254   28591.0   \n",
       "3              8.0  0345404912  129074.0   \n",
       "4              0.0  0843951400  271245.0   \n",
       "...            ...         ...       ...   \n",
       "99995          0.0  0142003190   41086.0   \n",
       "99996          0.0  1576731278   16777.0   \n",
       "99997          0.0  0446341231   35809.0   \n",
       "99998          0.0  0590442341  126736.0   \n",
       "99999          0.0  0671007637  219546.0   \n",
       "\n",
       "                                              Book-Title  \n",
       "0      Tom Clancy's Op-Center: Games of State (Tom Cl...  \n",
       "1      Mischief And Marriage (Top Author) (Harlequin ...  \n",
       "2                  A Loving Scoundrel (Lindsey, Johanna)  \n",
       "3                                  The Last Full Measure  \n",
       "4                                    Against All Enemies  \n",
       "...                                                  ...  \n",
       "99995                                   A Noble Radiance  \n",
       "99996     Stories for the Heart: The Original Collection  \n",
       "99997                                      Mountain Guns  \n",
       "99998  Jessi's Secret Language (Baby-Sitters Club (Pa...  \n",
       "99999                                 Runaways (Orphans)  \n",
       "\n",
       "[100000 rows x 4 columns]"
      ]
     },
     "execution_count": 244,
     "metadata": {},
     "output_type": "execute_result"
    }
   ],
   "source": [
    "book_df"
   ]
  },
  {
   "cell_type": "code",
   "execution_count": 245,
   "metadata": {
    "execution": {
     "iopub.execute_input": "2023-07-21T00:33:12.664044Z",
     "iopub.status.busy": "2023-07-21T00:33:12.663618Z",
     "iopub.status.idle": "2023-07-21T00:33:12.760157Z",
     "shell.execute_reply": "2023-07-21T00:33:12.759073Z",
     "shell.execute_reply.started": "2023-07-21T00:33:12.664002Z"
    }
   },
   "outputs": [
    {
     "data": {
      "text/plain": [
       "22566"
      ]
     },
     "execution_count": 245,
     "metadata": {},
     "output_type": "execute_result"
    }
   ],
   "source": [
    "book_not_read = book_df[~book_df['Book-Title'].isin(book_read_by_user['Book-Title'].values)]['Book-Title'] \n",
    "book_not_read = list(\n",
    "    set(book_not_read)\n",
    "    .intersection(set(book_to_book_encoded.keys()))\n",
    ")\n",
    "len(book_not_read)"
   ]
  },
  {
   "cell_type": "code",
   "execution_count": 246,
   "metadata": {
    "execution": {
     "iopub.execute_input": "2023-07-21T00:33:15.158170Z",
     "iopub.status.busy": "2023-07-21T00:33:15.157720Z",
     "iopub.status.idle": "2023-07-21T00:33:15.219161Z",
     "shell.execute_reply": "2023-07-21T00:33:15.218040Z",
     "shell.execute_reply.started": "2023-07-21T00:33:15.158136Z"
    }
   },
   "outputs": [],
   "source": [
    "book_not_read = [[book_to_book_encoded.get(x)] for x in book_not_read]\n",
    "\n",
    "user_encoder = user_to_user_encoded.get(user_id)\n",
    "user_book_array = np.hstack(\n",
    "    ([[user_encoder]] * len(book_not_read), book_not_read)\n",
    ")\n"
   ]
  },
  {
   "cell_type": "code",
   "execution_count": 247,
   "metadata": {
    "execution": {
     "iopub.execute_input": "2023-07-21T00:33:17.054414Z",
     "iopub.status.busy": "2023-07-21T00:33:17.053996Z",
     "iopub.status.idle": "2023-07-21T00:33:17.072782Z",
     "shell.execute_reply": "2023-07-21T00:33:17.071414Z",
     "shell.execute_reply.started": "2023-07-21T00:33:17.054379Z"
    }
   },
   "outputs": [
    {
     "data": {
      "text/plain": [
       "0"
      ]
     },
     "execution_count": 247,
     "metadata": {},
     "output_type": "execute_result"
    }
   ],
   "source": [
    "len(user_book_array) - len([x for x in user_book_array if x is not None])\n"
   ]
  },
  {
   "cell_type": "code",
   "execution_count": 248,
   "metadata": {
    "execution": {
     "iopub.execute_input": "2023-07-21T00:33:18.613230Z",
     "iopub.status.busy": "2023-07-21T00:33:18.612348Z",
     "iopub.status.idle": "2023-07-21T00:33:19.960482Z",
     "shell.execute_reply": "2023-07-21T00:33:19.959336Z",
     "shell.execute_reply.started": "2023-07-21T00:33:18.613188Z"
    }
   },
   "outputs": [
    {
     "name": "stdout",
     "output_type": "stream",
     "text": [
      "706/706 [==============================] - 1s 1ms/step\n"
     ]
    },
    {
     "data": {
      "text/plain": [
       "array([1., 1., 1., ..., 1., 1., 1.], dtype=float32)"
      ]
     },
     "execution_count": 248,
     "metadata": {},
     "output_type": "execute_result"
    }
   ],
   "source": [
    "ratings = model.predict(user_book_array).flatten()\n",
    "ratings"
   ]
  },
  {
   "cell_type": "code",
   "execution_count": 287,
   "metadata": {
    "execution": {
     "iopub.execute_input": "2023-07-21T00:56:46.194906Z",
     "iopub.status.busy": "2023-07-21T00:56:46.194501Z",
     "iopub.status.idle": "2023-07-21T00:56:46.239642Z",
     "shell.execute_reply": "2023-07-21T00:56:46.238569Z",
     "shell.execute_reply.started": "2023-07-21T00:56:46.194873Z"
    }
   },
   "outputs": [
    {
     "name": "stdout",
     "output_type": "stream",
     "text": [
      "Showing recommendations for users: 252848.0\n",
      "===========================\n",
      "book with high ratings from user\n",
      "--------------------------------\n",
      "971246                     The Rolling Stone Book of Comedy\n",
      "101744                                    WLD ACCORDNG GARP\n",
      "620005    Writer's Market 2000: 8,000 Editors Who Buy Wh...\n",
      "303744                                          Beach Music\n",
      "551332     The Grass Is Always Greener Over the Septic Tank\n",
      "Name: Book-Title, dtype: object\n",
      "--------------------------------\n",
      "Top 10 book recommendation\n",
      "--------------------------------\n",
      "Wizard and Glass (The Dark Tower, Book 4)\n",
      "Wizard and Glass (The Dark Tower, Book 4)\n",
      "Slow Hand: Women Writing Erotica\n",
      "The Seven Dials Mystery (St. Martin's Minotaur Mysteries)\n",
      "Wizard and Glass (The Dark Tower, Book 4)\n",
      "Wizard and Glass (The Dark Tower, Book 4)\n",
      "The Devil in Bellminster: An Unlikely Mystery (Unlikely Heroes)\n",
      "Vintage Affair (Harlequin Romance, No 3158)\n",
      "The Seven Dials Mystery (St. Martin's Minotaur Mysteries)\n",
      "Wizard and Glass (The Dark Tower, Book 4)\n"
     ]
    }
   ],
   "source": [
    "top_ratings_indices = ratings.argsort()[-10:][::-1]\n",
    "recommended_book_ids = [\n",
    "    book_encoded_to_book.get(book_not_read[x][0]) for x in top_ratings_indices\n",
    "]\n",
    " \n",
    "print('Showing recommendations for users: {}'.format(user_id))\n",
    "print('===' * 9)\n",
    "print('book with high ratings from user')\n",
    "print('----' * 8)\n",
    " \n",
    "top_book_user = (\n",
    "    book_read_by_user.sort_values(\n",
    "        by = 'Book-Rating',\n",
    "        ascending=False\n",
    "    )\n",
    "    .head(5)\n",
    ")\n",
    "print(top_book_user['Book-Title']) \n",
    "book_df_rows = book_df[book_df['ISBN'].isin(top_book_user)]\n",
    "for row in book_df_rows.head(5).itertuples():\n",
    "    print(row.name)\n",
    " \n",
    "print('----' * 8)\n",
    "print('Top 10 book recommendation')\n",
    "print('----' * 8)\n",
    " \n",
    "recommended_book = book_df[book_df['Book-Title'].isin(recommended_book_ids)]\n",
    "for row in recommended_book.head(10).itertuples():\n",
    "    print(row._4)"
   ]
  }
 ],
 "metadata": {
  "kernelspec": {
   "display_name": "Python 3 (ipykernel)",
   "language": "python",
   "name": "python3"
  },
  "language_info": {
   "codemirror_mode": {
    "name": "ipython",
    "version": 3
   },
   "file_extension": ".py",
   "mimetype": "text/x-python",
   "name": "python",
   "nbconvert_exporter": "python",
   "pygments_lexer": "ipython3",
   "version": "3.11.4"
  }
 },
 "nbformat": 4,
 "nbformat_minor": 4
}
